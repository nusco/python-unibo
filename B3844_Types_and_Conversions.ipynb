{
  "nbformat": 4,
  "nbformat_minor": 0,
  "metadata": {
    "colab": {
      "provenance": [],
      "authorship_tag": "ABX9TyOOV/MWdVQVcK8Pt8a33GIh",
      "include_colab_link": true
    },
    "kernelspec": {
      "name": "python3",
      "display_name": "Python 3"
    },
    "language_info": {
      "name": "python"
    }
  },
  "cells": [
    {
      "cell_type": "markdown",
      "metadata": {
        "id": "view-in-github",
        "colab_type": "text"
      },
      "source": [
        "<a href=\"https://colab.research.google.com/github/nusco/python-unibo/blob/main/B3844_Types_and_Conversions.ipynb\" target=\"_parent\"><img src=\"https://colab.research.google.com/assets/colab-badge.svg\" alt=\"Open In Colab\"/></a>"
      ]
    },
    {
      "cell_type": "markdown",
      "source": [
        "# Types and Conversions\n",
        "\n",
        "Every value has a type."
      ],
      "metadata": {
        "id": "cQGkigr5x0kq"
      }
    },
    {
      "cell_type": "code",
      "execution_count": null,
      "metadata": {
        "id": "EbJY1kCCxuwp"
      },
      "outputs": [],
      "source": [
        "type(1)"
      ]
    },
    {
      "cell_type": "markdown",
      "source": [
        "Variables contain values, so they also have a type."
      ],
      "metadata": {
        "id": "avrM4XKWn_yv"
      }
    },
    {
      "cell_type": "code",
      "source": [
        "message = \"Hello\"\n",
        "type(message)"
      ],
      "metadata": {
        "id": "zvhyU2NVx9ms"
      },
      "execution_count": null,
      "outputs": []
    },
    {
      "cell_type": "markdown",
      "source": [
        "In certain cases Python converts one type to another automatically. However, that only happens in very specific, very safe cases."
      ],
      "metadata": {
        "id": "8_5LnwENyIK4"
      }
    },
    {
      "cell_type": "code",
      "source": [
        "integer_value = 5\n",
        "float_value = 2.5\n",
        "result = integer_value + float_value\n",
        "print(result)\n",
        "print(type(result))"
      ],
      "metadata": {
        "id": "tr8yRTkZyCci"
      },
      "execution_count": null,
      "outputs": []
    },
    {
      "cell_type": "markdown",
      "source": [
        "In the large majority of cases, python _doesn't_ convert types automatically:"
      ],
      "metadata": {
        "id": "mj0JavXQy_9p"
      }
    },
    {
      "cell_type": "code",
      "source": [
        "var1 = 2\n",
        "var2 = \"5\"\n",
        "result = var1 + var2"
      ],
      "metadata": {
        "id": "SDJjmTYdyahT"
      },
      "execution_count": null,
      "outputs": []
    },
    {
      "cell_type": "markdown",
      "source": [
        "However, you can usually convert basic types explicitly. For example, can you guess the output of the following cell?"
      ],
      "metadata": {
        "id": "6hXoQ1OrzOZM"
      }
    },
    {
      "cell_type": "code",
      "source": [
        "str(var1) + var2"
      ],
      "metadata": {
        "id": "htItURJszMIw"
      },
      "execution_count": null,
      "outputs": []
    },
    {
      "cell_type": "markdown",
      "source": [
        "And what about the next cell?"
      ],
      "metadata": {
        "id": "4wm1RU71znDW"
      }
    },
    {
      "cell_type": "code",
      "source": [
        "var1 + int(var2)"
      ],
      "metadata": {
        "id": "Obpvcil-zXL4"
      },
      "execution_count": null,
      "outputs": []
    },
    {
      "cell_type": "markdown",
      "source": [
        "But be mindful of conversion errors!"
      ],
      "metadata": {
        "id": "walBtCOHzztD"
      }
    },
    {
      "cell_type": "code",
      "source": [
        "\"2\" + int(\"five\")"
      ],
      "metadata": {
        "id": "iKZQTjBxzuOK"
      },
      "execution_count": null,
      "outputs": []
    },
    {
      "cell_type": "markdown",
      "source": [
        "Here are some more conversions:"
      ],
      "metadata": {
        "id": "-Fze8Bbi0Dyg"
      }
    },
    {
      "cell_type": "code",
      "source": [
        "print(float(\"15\"))\n",
        "print(float(\"99.999\"))\n",
        "print(str(\"stringy\"))\n",
        "print(int(3))"
      ],
      "metadata": {
        "id": "__9burPkz63S"
      },
      "execution_count": null,
      "outputs": []
    },
    {
      "cell_type": "markdown",
      "source": [
        "# User input\n",
        "\n",
        "You can read user input with the `input()` function:"
      ],
      "metadata": {
        "id": "N7Bz0FCpplLs"
      }
    },
    {
      "cell_type": "code",
      "source": [
        "print(\"Please, enter your name.\")\n",
        "name = input()\n",
        "print(f\"Hello, {name}!\")"
      ],
      "metadata": {
        "id": "ICgrw5ij0i8n"
      },
      "execution_count": null,
      "outputs": []
    },
    {
      "cell_type": "markdown",
      "source": [
        "# A few tasks for you\n",
        "\n",
        "Now try a few things on your own.\n",
        "\n",
        "### Full name greeting\n",
        "\n",
        "Write a program that asks for a person’s first name, then middle name, and then last name. Finally, have the program greet the person using their full name."
      ],
      "metadata": {
        "id": "CgO0RBvOqJIU"
      }
    },
    {
      "cell_type": "code",
      "source": [
        "# Write your program here"
      ],
      "metadata": {
        "id": "CwbBylbTp84r"
      },
      "execution_count": null,
      "outputs": []
    },
    {
      "cell_type": "markdown",
      "source": [
        "## Bigger, better favorite number.\n",
        "\n",
        "Write a program that asks for a person’s favorite number. Have your program add 1 to the number, and then suggest the result as a bigger and better favorite number. (Please be tactful about it, though.)"
      ],
      "metadata": {
        "id": "k2_1slIsqlwK"
      }
    },
    {
      "cell_type": "code",
      "source": [
        "# Write your program here"
      ],
      "metadata": {
        "id": "-vn90Tjkqqml"
      },
      "execution_count": null,
      "outputs": []
    }
  ]
}