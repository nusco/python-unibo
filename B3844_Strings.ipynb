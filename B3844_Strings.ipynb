{
  "nbformat": 4,
  "nbformat_minor": 0,
  "metadata": {
    "colab": {
      "provenance": [],
      "authorship_tag": "ABX9TyPyM23JTcvYO3IBAmALTwnz",
      "include_colab_link": true
    },
    "kernelspec": {
      "name": "python3",
      "display_name": "Python 3"
    },
    "language_info": {
      "name": "python"
    }
  },
  "cells": [
    {
      "cell_type": "markdown",
      "metadata": {
        "id": "view-in-github",
        "colab_type": "text"
      },
      "source": [
        "<a href=\"https://colab.research.google.com/github/nusco/python-unibo/blob/main/B3844_Strings.ipynb\" target=\"_parent\"><img src=\"https://colab.research.google.com/assets/colab-badge.svg\" alt=\"Open In Colab\"/></a>"
      ]
    },
    {
      "cell_type": "markdown",
      "source": [
        "# Strings\n",
        "\n",
        "Strings are sequences of characters, such as these:\n",
        "\n",
        "    \"Hello!\"\n",
        "    \"99 Red Balloons\"\n",
        "    \"Snoopy says #%^?&*@! when he stubs his toe.\" \"\"\n",
        "    \"\""
      ],
      "metadata": {
        "id": "rXpSnG-cQUVG"
      }
    },
    {
      "cell_type": "markdown",
      "source": [
        "You can \"escape\" certain characters inside a string:"
      ],
      "metadata": {
        "id": "adR2PRFATRKr"
      }
    },
    {
      "cell_type": "code",
      "source": [
        "print(\"They said, \\\"Yes!\\\"\")"
      ],
      "metadata": {
        "colab": {
          "base_uri": "https://localhost:8080/"
        },
        "id": "4QvVwzb-Tf9V",
        "outputId": "e527ca22-6f9f-4c2c-e846-2d078c6ddd13"
      },
      "execution_count": 18,
      "outputs": [
        {
          "output_type": "stream",
          "name": "stdout",
          "text": [
            "They said, \"Yes!\"\n"
          ]
        }
      ]
    },
    {
      "cell_type": "markdown",
      "source": [
        "Some \"escape sequences\" in strings have special meaning when you print them:"
      ],
      "metadata": {
        "id": "75e4N9j_TtIK"
      }
    },
    {
      "cell_type": "code",
      "source": [
        "print(\"This is one line\\nAnd this is another\")"
      ],
      "metadata": {
        "colab": {
          "base_uri": "https://localhost:8080/"
        },
        "id": "coYU8D7dT1-m",
        "outputId": "b4e35c8a-735a-400d-effa-b2fdfceeea27"
      },
      "execution_count": 17,
      "outputs": [
        {
          "output_type": "stream",
          "name": "stdout",
          "text": [
            "This is one line\n",
            "And this is another\n"
          ]
        }
      ]
    },
    {
      "cell_type": "markdown",
      "source": [
        "## Operations on strings\n",
        "\n",
        "You can perform operations on strings, such as concatenation and repetition:"
      ],
      "metadata": {
        "id": "3ehyI451QvyN"
      }
    },
    {
      "cell_type": "code",
      "execution_count": 5,
      "metadata": {
        "colab": {
          "base_uri": "https://localhost:8080/",
          "height": 214
        },
        "id": "mWuSnhQIQMJc",
        "outputId": "fb9f1839-30a8-4086-c12a-66e34e652bd5"
      },
      "outputs": [
        {
          "output_type": "error",
          "ename": "NameError",
          "evalue": "ignored",
          "traceback": [
            "\u001b[0;31m---------------------------------------------------------------------------\u001b[0m",
            "\u001b[0;31mNameError\u001b[0m                                 Traceback (most recent call last)",
            "\u001b[0;32m<ipython-input-5-73994953ad56>\u001b[0m in \u001b[0;36m<cell line: 1>\u001b[0;34m()\u001b[0m\n\u001b[0;32m----> 1\u001b[0;31m \u001b[0mputs\u001b[0m\u001b[0;34m(\u001b[0m\u001b[0;34m\"I like\"\u001b[0m \u001b[0;34m+\u001b[0m \u001b[0;34m\"apple pie.\"\u001b[0m\u001b[0;34m)\u001b[0m\u001b[0;34m\u001b[0m\u001b[0;34m\u001b[0m\u001b[0m\n\u001b[0m\u001b[1;32m      2\u001b[0m \u001b[0mputs\u001b[0m\u001b[0;34m(\u001b[0m\u001b[0;34m\"blink \"\u001b[0m \u001b[0;34m*\u001b[0m \u001b[0;36m4\u001b[0m\u001b[0;34m)\u001b[0m\u001b[0;34m\u001b[0m\u001b[0;34m\u001b[0m\u001b[0m\n",
            "\u001b[0;31mNameError\u001b[0m: name 'puts' is not defined"
          ]
        }
      ],
      "source": [
        "print(\"I like\" + \"apple pie.\")\n",
        "print(\"blink \" * 4)"
      ]
    },
    {
      "cell_type": "markdown",
      "source": [
        "## Strings vs. Numbers\n",
        "\n",
        "Try to guess what will happen when you execute each of the operations below."
      ],
      "metadata": {
        "id": "9P61KdzLR9jA"
      }
    },
    {
      "cell_type": "code",
      "source": [
        "print(12 + 12)"
      ],
      "metadata": {
        "colab": {
          "base_uri": "https://localhost:8080/"
        },
        "id": "ir0zRpL6RPhs",
        "outputId": "b97ef6a8-08bc-46be-ddc8-49f7c917c751"
      },
      "execution_count": 6,
      "outputs": [
        {
          "output_type": "stream",
          "name": "stdout",
          "text": [
            "24\n",
            "1212\n",
            "12 + 12\n"
          ]
        }
      ]
    },
    {
      "cell_type": "code",
      "source": [
        "print(\"12\" + \"12\")"
      ],
      "metadata": {
        "colab": {
          "base_uri": "https://localhost:8080/"
        },
        "id": "4KlTvrCoSug7",
        "outputId": "2d8a3004-e69b-4037-e575-be4d412dcb96"
      },
      "execution_count": 19,
      "outputs": [
        {
          "output_type": "stream",
          "name": "stdout",
          "text": [
            "1212\n"
          ]
        }
      ]
    },
    {
      "cell_type": "code",
      "source": [
        "print(\"12\" + 12)"
      ],
      "metadata": {
        "colab": {
          "base_uri": "https://localhost:8080/",
          "height": 194
        },
        "id": "FHspwf1GRZCO",
        "outputId": "93788f78-d4e0-44ef-d3ce-b3482558f3ce"
      },
      "execution_count": 20,
      "outputs": [
        {
          "output_type": "error",
          "ename": "TypeError",
          "evalue": "ignored",
          "traceback": [
            "\u001b[0;31m---------------------------------------------------------------------------\u001b[0m",
            "\u001b[0;31mTypeError\u001b[0m                                 Traceback (most recent call last)",
            "\u001b[0;32m<ipython-input-20-5cf237d41ae8>\u001b[0m in \u001b[0;36m<cell line: 1>\u001b[0;34m()\u001b[0m\n\u001b[0;32m----> 1\u001b[0;31m \u001b[0mprint\u001b[0m\u001b[0;34m(\u001b[0m\u001b[0;34m\"12\"\u001b[0m \u001b[0;34m+\u001b[0m \u001b[0;36m12\u001b[0m\u001b[0;34m)\u001b[0m\u001b[0;34m\u001b[0m\u001b[0;34m\u001b[0m\u001b[0m\n\u001b[0m",
            "\u001b[0;31mTypeError\u001b[0m: can only concatenate str (not \"int\") to str"
          ]
        }
      ]
    },
    {
      "cell_type": "code",
      "source": [
        "print(\"12 + 12\")"
      ],
      "metadata": {
        "colab": {
          "base_uri": "https://localhost:8080/"
        },
        "id": "HUPS0WJdSwpA",
        "outputId": "2d1aad95-9e79-4836-be1c-f1a8db6ecc95"
      },
      "execution_count": 10,
      "outputs": [
        {
          "output_type": "stream",
          "name": "stdout",
          "text": [
            "12 + 12\n"
          ]
        }
      ]
    },
    {
      "cell_type": "code",
      "source": [
        "print(\"12\" * \"4\")"
      ],
      "metadata": {
        "colab": {
          "base_uri": "https://localhost:8080/",
          "height": 194
        },
        "id": "Ichm69eDSUum",
        "outputId": "ac13075e-107d-48c7-b40a-c76b9c0f664a"
      },
      "execution_count": 8,
      "outputs": [
        {
          "output_type": "error",
          "ename": "TypeError",
          "evalue": "ignored",
          "traceback": [
            "\u001b[0;31m---------------------------------------------------------------------------\u001b[0m",
            "\u001b[0;31mTypeError\u001b[0m                                 Traceback (most recent call last)",
            "\u001b[0;32m<ipython-input-8-52b35780c630>\u001b[0m in \u001b[0;36m<cell line: 1>\u001b[0;34m()\u001b[0m\n\u001b[0;32m----> 1\u001b[0;31m \u001b[0mprint\u001b[0m\u001b[0;34m(\u001b[0m\u001b[0;34m\"12\"\u001b[0m \u001b[0;34m*\u001b[0m \u001b[0;34m\"4\"\u001b[0m\u001b[0;34m)\u001b[0m\u001b[0;34m\u001b[0m\u001b[0;34m\u001b[0m\u001b[0m\n\u001b[0m",
            "\u001b[0;31mTypeError\u001b[0m: can't multiply sequence by non-int of type 'str'"
          ]
        }
      ]
    },
    {
      "cell_type": "code",
      "source": [
        "print(\"na\" * 10)"
      ],
      "metadata": {
        "colab": {
          "base_uri": "https://localhost:8080/"
        },
        "id": "auccVKlySdI6",
        "outputId": "fa8c7c6d-afc9-44ab-da2e-956aaa2a1c16"
      },
      "execution_count": 9,
      "outputs": [
        {
          "output_type": "stream",
          "name": "stdout",
          "text": [
            "nananananananananana\n"
          ]
        }
      ]
    },
    {
      "cell_type": "code",
      "source": [
        "print(10 * \"na\")"
      ],
      "metadata": {
        "colab": {
          "base_uri": "https://localhost:8080/"
        },
        "id": "zR_-5kevS3vn",
        "outputId": "de4ea3ea-3e05-4b77-cff3-2f13339bc629"
      },
      "execution_count": 21,
      "outputs": [
        {
          "output_type": "stream",
          "name": "stdout",
          "text": [
            "nananananananananana\n"
          ]
        }
      ]
    },
    {
      "cell_type": "markdown",
      "source": [
        "How many did you guess correctly?"
      ],
      "metadata": {
        "id": "_8eK4H6_S-EX"
      }
    }
  ]
}