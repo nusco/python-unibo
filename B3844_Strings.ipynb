{
  "nbformat": 4,
  "nbformat_minor": 0,
  "metadata": {
    "colab": {
      "provenance": [],
      "authorship_tag": "ABX9TyMkX6P+sOM8tjVhNoesT1Yb",
      "include_colab_link": true
    },
    "kernelspec": {
      "name": "python3",
      "display_name": "Python 3"
    },
    "language_info": {
      "name": "python"
    }
  },
  "cells": [
    {
      "cell_type": "markdown",
      "metadata": {
        "id": "view-in-github",
        "colab_type": "text"
      },
      "source": [
        "<a href=\"https://colab.research.google.com/github/nusco/python-unibo/blob/main/B3844_Strings.ipynb\" target=\"_parent\"><img src=\"https://colab.research.google.com/assets/colab-badge.svg\" alt=\"Open In Colab\"/></a>"
      ]
    },
    {
      "cell_type": "markdown",
      "source": [
        "# Strings\n",
        "\n",
        "Strings are sequences of characters, such as these:\n",
        "\n",
        "    \"Hello!\"\n",
        "    \"99 Red Balloons\"\n",
        "    \"Snoopy says #%^?&*@! when he stubs his toe.\"\n",
        "    \"\""
      ],
      "metadata": {
        "id": "rXpSnG-cQUVG"
      }
    },
    {
      "cell_type": "markdown",
      "source": [
        "You can \"escape\" certain characters inside a string:"
      ],
      "metadata": {
        "id": "adR2PRFATRKr"
      }
    },
    {
      "cell_type": "code",
      "source": [
        "print(\"They said, \\\"Yes!\\\"\")"
      ],
      "metadata": {
        "id": "4QvVwzb-Tf9V"
      },
      "execution_count": null,
      "outputs": []
    },
    {
      "cell_type": "markdown",
      "source": [
        "Some \"escape sequences\" in strings have special meaning when you print them:"
      ],
      "metadata": {
        "id": "75e4N9j_TtIK"
      }
    },
    {
      "cell_type": "code",
      "source": [
        "print(\"This is one line\\nAnd this is another\")"
      ],
      "metadata": {
        "id": "coYU8D7dT1-m"
      },
      "execution_count": null,
      "outputs": []
    },
    {
      "cell_type": "markdown",
      "source": [
        "## Operations on strings\n",
        "\n",
        "You can perform operations on strings, such as concatenation and repetition:"
      ],
      "metadata": {
        "id": "3ehyI451QvyN"
      }
    },
    {
      "cell_type": "code",
      "execution_count": null,
      "metadata": {
        "id": "mWuSnhQIQMJc"
      },
      "outputs": [],
      "source": [
        "print(\"I like\" + \"apple pie.\")\n",
        "print(\"blink \" * 4)"
      ]
    },
    {
      "cell_type": "markdown",
      "source": [
        "## Strings vs. Numbers\n",
        "\n",
        "Try to guess what will happen when you execute each of the operations below."
      ],
      "metadata": {
        "id": "9P61KdzLR9jA"
      }
    },
    {
      "cell_type": "code",
      "source": [
        "print(12 + 12)"
      ],
      "metadata": {
        "id": "ir0zRpL6RPhs"
      },
      "execution_count": null,
      "outputs": []
    },
    {
      "cell_type": "code",
      "source": [
        "print(\"12\" + \"12\")"
      ],
      "metadata": {
        "id": "4KlTvrCoSug7"
      },
      "execution_count": null,
      "outputs": []
    },
    {
      "cell_type": "code",
      "source": [
        "print(\"12\" + 12)"
      ],
      "metadata": {
        "id": "FHspwf1GRZCO"
      },
      "execution_count": null,
      "outputs": []
    },
    {
      "cell_type": "code",
      "source": [
        "print(\"12 + 12\")"
      ],
      "metadata": {
        "id": "HUPS0WJdSwpA"
      },
      "execution_count": null,
      "outputs": []
    },
    {
      "cell_type": "code",
      "source": [
        "print(\"12\" * \"4\")"
      ],
      "metadata": {
        "id": "Ichm69eDSUum"
      },
      "execution_count": null,
      "outputs": []
    },
    {
      "cell_type": "code",
      "source": [
        "print(\"na\" * 10)"
      ],
      "metadata": {
        "id": "auccVKlySdI6"
      },
      "execution_count": null,
      "outputs": []
    },
    {
      "cell_type": "code",
      "source": [
        "print(10 * \"na\")"
      ],
      "metadata": {
        "id": "zR_-5kevS3vn"
      },
      "execution_count": null,
      "outputs": []
    },
    {
      "cell_type": "markdown",
      "source": [
        "How many did you guess correctly?"
      ],
      "metadata": {
        "id": "_8eK4H6_S-EX"
      }
    }
  ]
}