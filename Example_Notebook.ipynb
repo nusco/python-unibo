{
  "nbformat": 4,
  "nbformat_minor": 0,
  "metadata": {
    "colab": {
      "provenance": [],
      "authorship_tag": "ABX9TyP19h04mv03JmKGXZPsAI9W",
      "include_colab_link": true
    },
    "kernelspec": {
      "name": "python3",
      "display_name": "Python 3"
    },
    "language_info": {
      "name": "python"
    }
  },
  "cells": [
    {
      "cell_type": "markdown",
      "metadata": {
        "id": "view-in-github",
        "colab_type": "text"
      },
      "source": [
        "<a href=\"https://colab.research.google.com/github/nusco/python-unibo/blob/main/Example_Notebook.ipynb\" target=\"_parent\"><img src=\"https://colab.research.google.com/assets/colab-badge.svg\" alt=\"Open In Colab\"/></a>"
      ]
    },
    {
      "cell_type": "markdown",
      "source": [
        "# Example Notebook\n",
        "\n",
        "This is a computational notebook. It's a way to mix code and documentation. Experiment with it. For example, you can execute the following cell:"
      ],
      "metadata": {
        "id": "He8Ws-y0IlJC"
      }
    },
    {
      "cell_type": "code",
      "execution_count": null,
      "metadata": {
        "id": "B3ksdRb7Fjkz"
      },
      "outputs": [],
      "source": [
        "print(\"Hello, world\")  # This line prints \"Hello, world\" on the screen"
      ]
    },
    {
      "cell_type": "markdown",
      "source": [
        "By the way: Everything that follows the `#` sign in the code above is a comment. Python ignores comments. They're meant for humans reading the code.\n"
      ],
      "metadata": {
        "id": "TvRcn537FkJr"
      }
    },
    {
      "cell_type": "markdown",
      "source": [
        "## Things to try\n",
        "\n",
        "- Execute a code cell\n",
        "- Add and delete new code and text cells\n",
        "- Change the order of cells\n",
        "- Edit code in a code cell and execute it\n",
        "\n",
        "Don't worry: you won't be able to overwrite the original notebook."
      ],
      "metadata": {
        "id": "xmmJrdOCscxJ"
      }
    },
    {
      "cell_type": "markdown",
      "source": [
        "## The extra mile\n",
        "\n",
        "- Use [Markdown](https://daringfireball.net/projects/markdown/syntax) to format text in a text cell. For example, make a few words italic or bold."
      ],
      "metadata": {
        "id": "HtXlNGFQsC33"
      }
    }
  ]
}