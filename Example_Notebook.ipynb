{
  "nbformat": 4,
  "nbformat_minor": 0,
  "metadata": {
    "colab": {
      "provenance": [],
      "authorship_tag": "ABX9TyOHBQsy5MDQ6FI6nFqvrPOW",
      "include_colab_link": true
    },
    "kernelspec": {
      "name": "python3",
      "display_name": "Python 3"
    },
    "language_info": {
      "name": "python"
    }
  },
  "cells": [
    {
      "cell_type": "markdown",
      "metadata": {
        "id": "view-in-github",
        "colab_type": "text"
      },
      "source": [
        "<a href=\"https://colab.research.google.com/github/nusco/python-unibo/blob/main/Example_Notebook.ipynb\" target=\"_parent\"><img src=\"https://colab.research.google.com/assets/colab-badge.svg\" alt=\"Open In Colab\"/></a>"
      ]
    },
    {
      "cell_type": "markdown",
      "source": [
        "This is a computational notebook. It's a way to mix code and documentation. Experiment with it."
      ],
      "metadata": {
        "id": "He8Ws-y0IlJC"
      }
    },
    {
      "cell_type": "code",
      "execution_count": null,
      "metadata": {
        "id": "B3ksdRb7Fjkz"
      },
      "outputs": [],
      "source": [
        "print(\"Hello, world\")"
      ]
    },
    {
      "cell_type": "markdown",
      "source": [
        "Now insert your own cells, both text and code cells. (Don't worry, you won't change the original notebook.)"
      ],
      "metadata": {
        "id": "TvRcn537FkJr"
      }
    },
    {
      "cell_type": "code",
      "source": [],
      "metadata": {
        "id": "I5UfP6k8I8Zn"
      },
      "execution_count": null,
      "outputs": []
    }
  ]
}