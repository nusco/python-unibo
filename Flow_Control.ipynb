{
  "nbformat": 4,
  "nbformat_minor": 0,
  "metadata": {
    "colab": {
      "provenance": [],
      "authorship_tag": "ABX9TyNAJF0oL9yfLuFTMe04gZQE",
      "include_colab_link": true
    },
    "kernelspec": {
      "name": "python3",
      "display_name": "Python 3"
    },
    "language_info": {
      "name": "python"
    }
  },
  "cells": [
    {
      "cell_type": "markdown",
      "metadata": {
        "id": "view-in-github",
        "colab_type": "text"
      },
      "source": [
        "<a href=\"https://colab.research.google.com/github/nusco/python-unibo/blob/main/Flow_Control.ipynb\" target=\"_parent\"><img src=\"https://colab.research.google.com/assets/colab-badge.svg\" alt=\"Open In Colab\"/></a>"
      ]
    },
    {
      "cell_type": "markdown",
      "source": [
        "# Flow Control\n",
        "\n",
        "\n",
        "### Comparison operators\n",
        "\n",
        "Guess the outputs of the next code cells: is the expression `True` or `False`? Give yourself one point for each correct guess."
      ],
      "metadata": {
        "id": "NoilRY13m_GF"
      }
    },
    {
      "cell_type": "code",
      "execution_count": null,
      "metadata": {
        "id": "C-DYVVwSm7ki"
      },
      "outputs": [],
      "source": [
        "1 < 1"
      ]
    },
    {
      "cell_type": "code",
      "source": [
        "1 <= 1"
      ],
      "metadata": {
        "id": "x9RjraORnMIq"
      },
      "execution_count": null,
      "outputs": []
    },
    {
      "cell_type": "code",
      "source": [
        "1 > -1"
      ],
      "metadata": {
        "id": "BW3elUe-nPUQ"
      },
      "execution_count": null,
      "outputs": []
    },
    {
      "cell_type": "code",
      "source": [
        "1 >= 0"
      ],
      "metadata": {
        "id": "QbZN2tCJnQ4H"
      },
      "execution_count": null,
      "outputs": []
    },
    {
      "cell_type": "code",
      "source": [
        "1 != (2 - 1)"
      ],
      "metadata": {
        "id": "Um1L0HqEnTnY"
      },
      "execution_count": null,
      "outputs": []
    },
    {
      "cell_type": "code",
      "source": [
        "1 == (2 - 1)"
      ],
      "metadata": {
        "id": "lR4nP2uWnr3U"
      },
      "execution_count": null,
      "outputs": []
    },
    {
      "cell_type": "code",
      "source": [
        "(0.3 - 0.2) == 0.1"
      ],
      "metadata": {
        "id": "ONciVIMKnY2q"
      },
      "execution_count": null,
      "outputs": []
    },
    {
      "cell_type": "code",
      "source": [
        "\"cat\" > \"dog\""
      ],
      "metadata": {
        "id": "MSsTT7zhoMgk"
      },
      "execution_count": null,
      "outputs": []
    },
    {
      "cell_type": "code",
      "source": [
        "\"The good dog\" < \"grumpy cat\""
      ],
      "metadata": {
        "id": "OcbMkaOcoVlA"
      },
      "execution_count": null,
      "outputs": []
    },
    {
      "cell_type": "code",
      "source": [
        "\"2\" < \"10\""
      ],
      "metadata": {
        "id": "7ZtrWwN7o3RY"
      },
      "execution_count": null,
      "outputs": []
    },
    {
      "cell_type": "markdown",
      "source": [
        "How many points did you get out of the 10 expressions above?"
      ],
      "metadata": {
        "id": "UhuWkVrvn2mW"
      }
    },
    {
      "cell_type": "markdown",
      "source": [
        "### Conditionals\n",
        "\n",
        "You can define conditional statements with the `if` keyword (and optionally, the `else` keyword):"
      ],
      "metadata": {
        "id": "28Ttiz-5w7bh"
      }
    },
    {
      "cell_type": "code",
      "source": [
        "print(\"I am a fortune-teller. Tell me your name:\")\n",
        "name = input()\n",
        "if name == \"Lucky Joe\":\n",
        "    print(\"I see great things in your future.\")\n",
        "else:\n",
        "    print(\"Your future is...oh my! Look at the time!\")\n",
        "    print(\"I really have to go. Sorry!\")\n",
        "print(\"It's 30 euros, please.\")"
      ],
      "metadata": {
        "id": "Gg-rFA8VxISG"
      },
      "execution_count": null,
      "outputs": []
    },
    {
      "cell_type": "markdown",
      "source": [
        "Notice how Python uses indentation to define blocks of code. In the code above, for example, the `else` is followed by a two-line block. Unless the name of the user is exactly `\"Lucky Joe\"`, Python will execute both those lines.\n",
        "\n",
        "On the other hand, the very last line is not indented, so it will be always executed, whatever the result of the `if`."
      ],
      "metadata": {
        "id": "wG70N8pVxoFA"
      }
    },
    {
      "cell_type": "markdown",
      "source": [
        "You can also have _nested_ conditionals:"
      ],
      "metadata": {
        "id": "Y389HrxZxtM5"
      }
    },
    {
      "cell_type": "code",
      "source": [
        "print(\"Hello, and welcome to seventh grade English.\")\n",
        "print(\"My name is Mrs. Gabbard. And your name is...?\")\n",
        "\n",
        "name = input()\n",
        "if name == name.capitalize():\n",
        "    print(f\"Please take a seat, {name}.\")\n",
        "else:\n",
        "    print(f\"{name}? You mean {name.capitalize()}, right?\")\n",
        "    print(\"Don't you even know how to spell your name?\")\n",
        "\n",
        "    reply = input()\n",
        "    if reply.lower() == \"yes\":\n",
        "        print(\"Hmmph! Well, sit down!\")\n",
        "    else:\n",
        "        print(\"GET OUT!!\")"
      ],
      "metadata": {
        "id": "s2nhtTY0yQQl"
      },
      "execution_count": null,
      "outputs": []
    },
    {
      "cell_type": "markdown",
      "source": [
        "The code above is by far the most complicated you've seen in the course so far. Don't move forward with this notebook until you're confident that you understand it! Take your time to make your experiments and modify it. For example:\n",
        "\n",
        "* What does the `capitalize()` function do, and why is it used in this code?\n",
        "* What happens if you change the indentation of some lines in the code?\n",
        "* What happens if you remove the call to `lower()` in the last `if`?"
      ],
      "metadata": {
        "id": "W6YKyKKuoZrs"
      }
    },
    {
      "cell_type": "markdown",
      "source": [
        "### Exercise: The Berlin bouncer\n",
        "\n",
        "Write a program that acts as the bouncer for \"The Short Named\", a popular dance club in Berlin. By policy, this club only accepts people whose name contains less than 6 letters.\n",
        "\n",
        "The program should ask for the user name. If the user name is shorter than 6 letters, then the program greets the user and asks them to enter. If the user's name is 6 letters or more, then the program politely asks the user to leave.\n",
        "\n",
        "The one exception is the name \"Ferdinand\". Ferdinand is one of the Noisy Mess's owners, so the 5-letters rule doesn't apply to him. Anybody with this name can enter.\n",
        "\n",
        "To write this program according to the rules above, you might need nested `if`s."
      ],
      "metadata": {
        "id": "uTQV_stpn7ar"
      }
    },
    {
      "cell_type": "code",
      "source": [
        "# Write your code here"
      ],
      "metadata": {
        "id": "vTtVu6SMnzul"
      },
      "execution_count": null,
      "outputs": []
    },
    {
      "cell_type": "markdown",
      "source": [
        "### Logical operators\n",
        "\n",
        "You can use the `and`, `or` and `not` operators to define logical expressions. Try to predict the output of the code cells below:"
      ],
      "metadata": {
        "id": "-G9A7E5iA2TM"
      }
    },
    {
      "cell_type": "code",
      "source": [
        "True and False"
      ],
      "metadata": {
        "id": "D1MB2Za8BLrx"
      },
      "execution_count": null,
      "outputs": []
    },
    {
      "cell_type": "code",
      "source": [
        "True and True"
      ],
      "metadata": {
        "id": "Xs1gXQYncBfQ"
      },
      "execution_count": null,
      "outputs": []
    },
    {
      "cell_type": "code",
      "source": [
        "True or True"
      ],
      "metadata": {
        "id": "wv72xF2EcB8e"
      },
      "execution_count": null,
      "outputs": []
    },
    {
      "cell_type": "code",
      "source": [
        "True or False"
      ],
      "metadata": {
        "id": "qP9Mo-99cCfD"
      },
      "execution_count": null,
      "outputs": []
    },
    {
      "cell_type": "code",
      "source": [
        "True and not False"
      ],
      "metadata": {
        "id": "HDJGgde-cCzH"
      },
      "execution_count": null,
      "outputs": []
    },
    {
      "cell_type": "code",
      "source": [
        "not((True and False) or True)"
      ],
      "metadata": {
        "id": "_DYblbV_cDFq"
      },
      "execution_count": null,
      "outputs": []
    },
    {
      "cell_type": "markdown",
      "source": [
        "### Exercise: The Berlin bouncer revisited\n",
        "\n",
        "Copy/paste the Berlin Bouncer program into the cell below, and modify it to use logical operators. With them, you should be able to remove the nested `if`."
      ],
      "metadata": {
        "id": "9V1OAn1yBkcq"
      }
    },
    {
      "cell_type": "code",
      "source": [
        "# Write your code here"
      ],
      "metadata": {
        "id": "FQ3-63DCBjkD"
      },
      "execution_count": null,
      "outputs": []
    },
    {
      "cell_type": "markdown",
      "source": [
        "Which version of the program do you find easier to understand?"
      ],
      "metadata": {
        "id": "NhxcPtdVFMGS"
      }
    },
    {
      "cell_type": "markdown",
      "source": [
        "### Looping\n",
        "\n",
        "You can use the `while` keyword to loop. It will keep looping until its condition becomes false:"
      ],
      "metadata": {
        "id": "abblR589-djm"
      }
    },
    {
      "cell_type": "code",
      "source": [
        "sentence = input()\n",
        "while sentence != \"bye\":\n",
        "    print(sentence)\n",
        "    sentence = input()\n",
        "print(\"Come again soon!\")"
      ],
      "metadata": {
        "id": "UakY400L-u8H"
      },
      "execution_count": null,
      "outputs": []
    },
    {
      "cell_type": "markdown",
      "source": [
        "If the condition is always true, then the loop will continue forever–or until you force an exit with the `break` keyword:"
      ],
      "metadata": {
        "id": "sbGEDIpo_iv6"
      }
    },
    {
      "cell_type": "code",
      "source": [
        "while True:\n",
        "    sentence = input()\n",
        "    if sentence == \"bye\":\n",
        "        break"
      ],
      "metadata": {
        "id": "VEppNTu--5k8"
      },
      "execution_count": null,
      "outputs": []
    },
    {
      "cell_type": "markdown",
      "source": [
        "### Exercise: Count to Ten\n",
        "\n",
        "Write a program that prints out the numbers from 1 to 20. It should be just three lines of code."
      ],
      "metadata": {
        "id": "E2C_EAQiqwCW"
      }
    },
    {
      "cell_type": "code",
      "source": [
        "# Write your code here"
      ],
      "metadata": {
        "id": "OuzGhnUyq9-T"
      },
      "execution_count": null,
      "outputs": []
    },
    {
      "cell_type": "markdown",
      "source": [
        "### Exercise: 99 Bottles\n",
        "\n",
        "Write a program that prints out the lyrics to the classic song, [“99 Bottles of Beer on the Wall.”](https://99-bottles-of-beer.net/lyrics.html)"
      ],
      "metadata": {
        "id": "hLeBs_9ZCms9"
      }
    },
    {
      "cell_type": "code",
      "source": [
        "# Write your code here"
      ],
      "metadata": {
        "id": "bnzMtg_mFlwL"
      },
      "execution_count": null,
      "outputs": []
    },
    {
      "cell_type": "markdown",
      "source": [
        "### Exercise: Deaf grandma\n",
        "\n",
        "Write a deaf grandma program that you can have a conversation with. Grandma has trouble hearing you, and you have to SHOUT by typing everything in all capitals. If you don't shout, grandma will ask you to raise your voice:\n",
        "\n",
        "    HUH?! SPEAK UP, SONNY!\n",
        "\n",
        "Even if you shout, she'll always misunderstand and respond:\n",
        "\n",
        "    NO, NOT SINCE 1938!\n",
        "\n",
        "You can stop talking to Grandma by shouting BYE.\n",
        "\n",
        "Hint: Try to think about what parts of your program should happen over and over again. All of those should be in a loop.\n"
      ],
      "metadata": {
        "id": "Myckh5kBDARX"
      }
    },
    {
      "cell_type": "code",
      "source": [
        "# Write your code here"
      ],
      "metadata": {
        "id": "5eQ4bk1c_hL_"
      },
      "execution_count": null,
      "outputs": []
    },
    {
      "cell_type": "markdown",
      "source": [
        "Here is an optional challenge: to make the program above really believable, have Grandma shout a different year each time–maybe any year at random between 1930 and 1950.You'll have to look online how to generate random numbers in python.\n"
      ],
      "metadata": {
        "id": "WS3GA8YBFgaG"
      }
    },
    {
      "cell_type": "markdown",
      "source": [
        "### Exercise: Deaf grandma strikes again\n",
        "\n",
        "What if Grandma doesn’t want you to leave? When you shout BYE, she could pretend not to hear you. Copy your previous program to the cell below, and change it so that you have to shout BYE three times in a row.\n",
        "\n",
        "Make sure to test your program: if you shout BYE three times, but not in a row, you should still be talking to Grandma."
      ],
      "metadata": {
        "id": "hH4v6uMqFvfB"
      }
    },
    {
      "cell_type": "code",
      "source": [
        "# Write your code here"
      ],
      "metadata": {
        "id": "ap-z8ScCC_tY"
      },
      "execution_count": null,
      "outputs": []
    },
    {
      "cell_type": "markdown",
      "source": [
        "### Exercise: Leap years\n",
        "\n",
        "Write a program that:\n",
        "\n",
        "1. Asks for a starting year and an ending year.\n",
        "2. It prints all the leap years between them (and *including* them, if they are also leap years).\n",
        "\n",
        "Leap years are years divisible by 4 (like 1984 and 2004). _But_ years divisible by 100 are not leap years (such as 1800 and 1900), unless they are also divisible by 400 (such as 1600 and 2000, which were in fact leap years). What a mess."
      ],
      "metadata": {
        "id": "gEDxkJruF9yQ"
      }
    },
    {
      "cell_type": "code",
      "source": [
        "# Write your code here"
      ],
      "metadata": {
        "id": "Y8bLXW5KF7l3"
      },
      "execution_count": null,
      "outputs": []
    },
    {
      "cell_type": "markdown",
      "source": [
        "When you finish the exercises above, take a break. That was *a lot* of programming."
      ],
      "metadata": {
        "id": "Zl4Cnfs3GJs1"
      }
    }
  ]
}