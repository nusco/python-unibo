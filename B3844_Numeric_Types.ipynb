{
  "nbformat": 4,
  "nbformat_minor": 0,
  "metadata": {
    "colab": {
      "provenance": [],
      "authorship_tag": "ABX9TyPNhIX9LM+lccOF58icdJjb",
      "include_colab_link": true
    },
    "kernelspec": {
      "name": "python3",
      "display_name": "Python 3"
    },
    "language_info": {
      "name": "python"
    }
  },
  "cells": [
    {
      "cell_type": "markdown",
      "metadata": {
        "id": "view-in-github",
        "colab_type": "text"
      },
      "source": [
        "<a href=\"https://colab.research.google.com/github/nusco/python-unibo/blob/main/B3844_Numeric_Types.ipynb\" target=\"_parent\"><img src=\"https://colab.research.google.com/assets/colab-badge.svg\" alt=\"Open In Colab\"/></a>"
      ]
    },
    {
      "cell_type": "markdown",
      "source": [
        "# Numeric Types\n",
        "\n",
        "The two most important numeric types in Python are _integers_ and _floats_.\n",
        "\n",
        "Here are some integers:\n",
        "\n",
        "    5\n",
        "    -205\n",
        "    9999999999999999999999999\n",
        "    0\n",
        "\n",
        "And here are some floats:\n",
        "\n",
        "    54.321\n",
        "    0.001\n",
        "    -205.3884\n",
        "    0.0\n",
        "\n",
        "Python follows the English-speaking convention: decimals are separated by dots, not commas."
      ],
      "metadata": {
        "id": "mKKxlpKl4nBT"
      }
    },
    {
      "cell_type": "markdown",
      "source": [
        "## Simple arithmetic\n",
        "\n",
        "Execute arithmetic operations in the cell below. Try these:\n",
        "\n",
        "* Try the `+` and `-` operators.\n",
        "* Find out how to divide two numbers.\n",
        "* Find out how to multiply two numbers."
      ],
      "metadata": {
        "id": "gw2LnT1Q3beG"
      }
    },
    {
      "cell_type": "code",
      "source": [
        "# Try arithmetics here"
      ],
      "metadata": {
        "id": "TUeyUiYa3Y2E"
      },
      "execution_count": null,
      "outputs": []
    },
    {
      "cell_type": "markdown",
      "source": [
        "Search the Internet or experiment on your own to find out what the `%` operator does. Then try it in the code cell below:"
      ],
      "metadata": {
        "id": "jV_PMbUwgkUr"
      }
    },
    {
      "cell_type": "code",
      "source": [
        "# Try the % operator here"
      ],
      "metadata": {
        "id": "_Mgktzmq5MY0"
      },
      "execution_count": null,
      "outputs": []
    },
    {
      "cell_type": "markdown",
      "source": [
        "Can you come up with a practical example of how this operator could be useful?"
      ],
      "metadata": {
        "id": "Z59SFX_i5RAI"
      }
    },
    {
      "cell_type": "markdown",
      "source": [
        "## Don't use floats for precise calculations\n",
        "\n",
        "It's a bad idea to use floats to represent exact values such as money. Here's proof:"
      ],
      "metadata": {
        "id": "uCvozOC_gcct"
      }
    },
    {
      "cell_type": "code",
      "source": [
        "0.1 + 0.2"
      ],
      "metadata": {
        "id": "f1nZ8leo7CcW"
      },
      "execution_count": null,
      "outputs": []
    },
    {
      "cell_type": "markdown",
      "source": [
        "# A few tasks for you\n",
        "\n",
        "Use Python to answer the following questions."
      ],
      "metadata": {
        "id": "eb9NJ-jkgnhQ"
      }
    },
    {
      "cell_type": "markdown",
      "source": [
        "How many hours are in a year?"
      ],
      "metadata": {
        "id": "zruY-yFPjJYr"
      }
    },
    {
      "cell_type": "code",
      "source": [
        "# Answer here"
      ],
      "metadata": {
        "id": "jIi70NzsjQys"
      },
      "execution_count": null,
      "outputs": []
    },
    {
      "cell_type": "markdown",
      "source": [
        "How many minutes are in a decade?"
      ],
      "metadata": {
        "id": "iFgRyy21jRv-"
      }
    },
    {
      "cell_type": "code",
      "source": [
        "# Answer here"
      ],
      "metadata": {
        "id": "0vQ2rqeIjceL"
      },
      "execution_count": null,
      "outputs": []
    },
    {
      "cell_type": "markdown",
      "source": [
        "How many seconds old are you? Be as accurate (or not) as you want."
      ],
      "metadata": {
        "id": "kemur78vjdxy"
      }
    },
    {
      "cell_type": "code",
      "source": [
        "# Answer here"
      ],
      "metadata": {
        "id": "tg2ioaJVjpW-"
      },
      "execution_count": null,
      "outputs": []
    },
    {
      "cell_type": "markdown",
      "source": [
        "A University professor is 1710201600 seconds old. How many years old is he?\n",
        "\n",
        "(Hint: when you write a long number, you can use underscores to separate digits and make it more readable to humans, as in `1_000_000`. Python ignores underscores in numbers.)"
      ],
      "metadata": {
        "id": "sKCqaY2qjmjm"
      }
    },
    {
      "cell_type": "code",
      "source": [
        "# Answer here"
      ],
      "metadata": {
        "id": "Sqyw9683jooC"
      },
      "execution_count": null,
      "outputs": []
    }
  ]
}