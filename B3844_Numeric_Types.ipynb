{
  "nbformat": 4,
  "nbformat_minor": 0,
  "metadata": {
    "colab": {
      "provenance": [],
      "authorship_tag": "ABX9TyP8wh7A3CjfoFmLyRk5X3Ht",
      "include_colab_link": true
    },
    "kernelspec": {
      "name": "python3",
      "display_name": "Python 3"
    },
    "language_info": {
      "name": "python"
    }
  },
  "cells": [
    {
      "cell_type": "markdown",
      "metadata": {
        "id": "view-in-github",
        "colab_type": "text"
      },
      "source": [
        "<a href=\"https://colab.research.google.com/github/nusco/python-unibo/blob/main/B3844_Numeric_Types.ipynb\" target=\"_parent\"><img src=\"https://colab.research.google.com/assets/colab-badge.svg\" alt=\"Open In Colab\"/></a>"
      ]
    },
    {
      "cell_type": "markdown",
      "source": [
        "# Welcome to Python\n",
        "\n",
        "Try running the code cell below."
      ],
      "metadata": {
        "id": "pc2yoCdd3DWt"
      }
    },
    {
      "cell_type": "code",
      "execution_count": 2,
      "metadata": {
        "colab": {
          "base_uri": "https://localhost:8080/"
        },
        "id": "r2m6QCGw3Cbf",
        "outputId": "bd27bb51-db8f-4fc0-8135-68c303200bea"
      },
      "outputs": [
        {
          "output_type": "stream",
          "name": "stdout",
          "text": [
            "Hello! Welcome to Python\n"
          ]
        },
        {
          "output_type": "execute_result",
          "data": {
            "text/plain": [
              "2"
            ]
          },
          "metadata": {},
          "execution_count": 2
        }
      ],
      "source": [
        "print(\"Hello! Welcome to Python\")"
      ]
    },
    {
      "cell_type": "markdown",
      "source": [
        "Now execute arithmetic operations in the cell below. Try these:\n",
        "\n",
        "* Try the operators `+` and `-`.\n",
        "* Find out how to divide two numbers.\n",
        "* Find out how to multiply two numbers.\n",
        "* Find out what the '%' operator does."
      ],
      "metadata": {
        "id": "gw2LnT1Q3beG"
      }
    },
    {
      "cell_type": "code",
      "source": [
        "1 / 2"
      ],
      "metadata": {
        "colab": {
          "base_uri": "https://localhost:8080/"
        },
        "id": "TUeyUiYa3Y2E",
        "outputId": "ab162dbb-7971-49c2-ab6f-13f6caee0d6a"
      },
      "execution_count": 2,
      "outputs": [
        {
          "output_type": "execute_result",
          "data": {
            "text/plain": [
              "0.5"
            ]
          },
          "metadata": {},
          "execution_count": 2
        }
      ]
    },
    {
      "cell_type": "code",
      "source": [],
      "metadata": {
        "id": "BIEAKeaDDI6K"
      },
      "execution_count": null,
      "outputs": []
    }
  ]
}