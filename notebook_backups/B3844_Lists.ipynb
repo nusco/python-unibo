{
  "nbformat": 4,
  "nbformat_minor": 0,
  "metadata": {
    "colab": {
      "provenance": []
    },
    "kernelspec": {
      "name": "python3",
      "display_name": "Python 3"
    },
    "language_info": {
      "name": "python"
    }
  },
  "cells": [
    {
      "cell_type": "markdown",
      "source": [
        "\n",
        "# Lists\n",
        "\n",
        "Lists are variables that can have multiple values (\"elements\"). For example, here are a few lists:\n",
        "\n",
        "    [5, 4, 12]\n",
        "    []\n",
        "    [\"Hello\", \"Goodbye\"]\n",
        "    [1]\n",
        "\n",
        "Let's create a list and play with it:"
      ],
      "metadata": {
        "id": "MD7UJUWrFfG9"
      }
    },
    {
      "cell_type": "code",
      "source": [],
      "metadata": {
        "id": "27GpjXYPFbwr"
      },
      "execution_count": null,
      "outputs": []
    },
    {
      "cell_type": "code",
      "execution_count": null,
      "metadata": {
        "id": "0R3AFGQWDtlo"
      },
      "outputs": [],
      "source": [
        "a_bunch_of_things = [89.9, \"vanilla\", True, \"Well done!\"]"
      ]
    },
    {
      "cell_type": "markdown",
      "source": [
        "You can access specific elements with an _index_. Note that indexes start from zero, not from one. Hence, the element of index 1 is the _second_ element:"
      ],
      "metadata": {
        "id": "-5zqMBPfGMc2"
      }
    },
    {
      "cell_type": "code",
      "source": [
        "a_bunch_of_things[1]"
      ],
      "metadata": {
        "id": "TAfdj5mFF9SL"
      },
      "execution_count": null,
      "outputs": []
    },
    {
      "cell_type": "markdown",
      "source": [
        "What do you expect to happen when you run the next line of code? Can you explain why it happens?"
      ],
      "metadata": {
        "id": "ma1o-90eHJd2"
      }
    },
    {
      "cell_type": "code",
      "source": [
        "a_bunch_of_things[4]"
      ],
      "metadata": {
        "id": "sAeCG9C-IJvO"
      },
      "execution_count": null,
      "outputs": []
    },
    {
      "cell_type": "markdown",
      "source": [
        "Try writing code that accesses the first element of the list:"
      ],
      "metadata": {
        "id": "o2GRxGFkGeUB"
      }
    },
    {
      "cell_type": "code",
      "source": [
        "# Write your code here"
      ],
      "metadata": {
        "id": "n72gYfDfGZNG"
      },
      "execution_count": null,
      "outputs": []
    },
    {
      "cell_type": "markdown",
      "source": [
        "Now the last element:"
      ],
      "metadata": {
        "id": "UYLJzmDAI7EQ"
      }
    },
    {
      "cell_type": "code",
      "source": [
        "# Write your code here"
      ],
      "metadata": {
        "id": "33EocGhNI-_t"
      },
      "execution_count": null,
      "outputs": []
    },
    {
      "cell_type": "markdown",
      "source": [
        "Lists can contain any value, including other lists:"
      ],
      "metadata": {
        "id": "1ttde_GDHrO_"
      }
    },
    {
      "cell_type": "code",
      "source": [
        "flavour = \"vanilla\"\n",
        "more_things = [89.9, flavour, [True, False, \"That was impressive!\"]]\n",
        "\n",
        "print(more_things)"
      ],
      "metadata": {
        "id": "kj2hOVLJHtBp"
      },
      "execution_count": null,
      "outputs": []
    },
    {
      "cell_type": "markdown",
      "source": [
        "Here is a harder challenge. Can you write code that reads the element `\"That was impressive!\"`?\n",
        "\n",
        "(Hint: you have to access an element of a list that is itself a list; then you have to access an element of this second list. You can do it all in a single line of code, if you wish.)"
      ],
      "metadata": {
        "id": "fgSIYPKCG1Dg"
      }
    },
    {
      "cell_type": "code",
      "source": [
        "# Write your code here"
      ],
      "metadata": {
        "id": "8xyNI72bG8t4"
      },
      "execution_count": null,
      "outputs": []
    },
    {
      "cell_type": "markdown",
      "source": [
        "### Assigning and appending elements\n",
        "\n",
        "Each element in a list is like its own variable. You can assign values to elements:\n"
      ],
      "metadata": {
        "id": "kvCkcxWJJr-f"
      }
    },
    {
      "cell_type": "code",
      "source": [
        "pets = [\"cat\", \"puppy\", \"rabbit\"]\n",
        "pets[1] = \"dog\"\n",
        "print(pets)"
      ],
      "metadata": {
        "id": "KtOnVnHXHTjf"
      },
      "execution_count": null,
      "outputs": []
    },
    {
      "cell_type": "markdown",
      "source": [
        "However, you cannot assign a value to an element that doesn't exist:"
      ],
      "metadata": {
        "id": "hsPO4xuEKFGh"
      }
    },
    {
      "cell_type": "code",
      "source": [
        "pets[3] = \"anteater\"  # Gives an error: \"list assignment index out of range\""
      ],
      "metadata": {
        "id": "85H5NY1QJ7Rm"
      },
      "execution_count": null,
      "outputs": []
    },
    {
      "cell_type": "markdown",
      "source": [
        "So, how do you add a new element to the list? For that, you can use the `append()` method:"
      ],
      "metadata": {
        "id": "g9IMkrsjKKdD"
      }
    },
    {
      "cell_type": "code",
      "source": [
        "pets.append(\"anteater\")\n",
        "print(pets)"
      ],
      "metadata": {
        "id": "KuqnWFTWKAt4"
      },
      "execution_count": null,
      "outputs": []
    },
    {
      "cell_type": "markdown",
      "source": [
        "### Tuples\n",
        "\n",
        "Just a quick mention of _tuples_: they're similar to lists, but they're defined with parentheses instead of square brackets:"
      ],
      "metadata": {
        "id": "UZKCHf2mt0XG"
      }
    },
    {
      "cell_type": "code",
      "source": [
        "this_is_a_list = [1, 2, 3, \"hello\"]\n",
        "this_is_a_tuple = (1, 2, 3, \"hello\")\n",
        "\n",
        "print(this_is_a_list[2])\n",
        "print(this_is_a_tuple[2])"
      ],
      "metadata": {
        "id": "NiyLHFAr-9K_"
      },
      "execution_count": null,
      "outputs": []
    },
    {
      "cell_type": "markdown",
      "source": [
        "The most important difference between lists and tuples is that tuples are _immutable_: once you define a tuple, you cannot change its elements."
      ],
      "metadata": {
        "id": "YFo8gMxg_IwN"
      }
    },
    {
      "cell_type": "code",
      "source": [
        "this_is_a_tuple[3] = \"goodbye\""
      ],
      "metadata": {
        "id": "LzAvkdE__HwQ"
      },
      "execution_count": null,
      "outputs": []
    },
    {
      "cell_type": "markdown",
      "source": [
        "Programmers often use tuples for things that aren't meant to change."
      ],
      "metadata": {
        "id": "YU4xC3ZFAz6g"
      }
    },
    {
      "cell_type": "markdown",
      "source": [
        "### _For_ loops\n",
        "\n",
        "One of the most common operations on lists is _iteration_: you walk through the lists, and do some operation on each element. You can do that with the `for` keyword:"
      ],
      "metadata": {
        "id": "zUh8tTQ4LmCb"
      }
    },
    {
      "cell_type": "code",
      "source": [
        "languages = [\"Italian\", \"English\", \"Norwegian\", \"Python\"]\n",
        "\n",
        "for language in languages:\n",
        "  print(f\"I love {language}! Don't you?\")"
      ],
      "metadata": {
        "id": "IUFkTlX2Lpmc"
      },
      "execution_count": null,
      "outputs": []
    },
    {
      "cell_type": "markdown",
      "source": [
        "Let's recap this notebook so far. You saw:\n",
        "\n",
        "- How to define a list.\n",
        "- How to read or write the elements of a list.\n",
        "- How to add elements to a list with `append()`.\n",
        "- How to iterate over a list with `for`."
      ],
      "metadata": {
        "id": "OPhrKyjHBxGX"
      }
    },
    {
      "cell_type": "markdown",
      "source": [
        "### Exercise: Hello everybody\n",
        "\n",
        "_Difficulty: ⭐_\n",
        "\n",
        "Write a program that takes a list of names, and for each name, it prints a greeting. For example, if the list is:\n",
        "\n",
        "    names = [\"Aditi\", \"Leon\", \"Alexei\"]\n",
        "\n",
        "…then the program should print:\n",
        "\n",
        "    Hello, Aditi!\n",
        "    Hello, Leon!\n",
        "    Hello, Alexei!\n",
        "\n",
        "The code should work with any list, no matter how long. If the list is empty, it should print nothing. If the list contains a number, it should still work fine. (I personally don't know anybody whose name is a number, but you never know.)\n"
      ],
      "metadata": {
        "id": "oQFHFlurCjIj"
      }
    },
    {
      "cell_type": "code",
      "source": [
        "# Write your code here"
      ],
      "metadata": {
        "id": "T_-2aMlXDIAi"
      },
      "execution_count": null,
      "outputs": []
    },
    {
      "cell_type": "markdown",
      "source": [
        "### Exercise: Word lengths\n",
        "\n",
        "_Difficulty: ⭐⭐_\n",
        "\n",
        "Write a program that asks you to input a series of words, and then prints the lengths of all the words in the series.\n",
        "\n",
        "The program works in two steps:\n",
        "\n",
        "1. When you start the program, it asks you to input words. You input as many words as you like, one at a time. To tell the program that the list is over, you input the word \"DONE\".\n",
        "2. The program prints the lengths of all the words you inserted.\n",
        "\n",
        "Oh, and just to nitpick: the word \"DONE\" isn't part of the input. The program shouldn't list the length of that one."
      ],
      "metadata": {
        "id": "BigRywtYqsqI"
      }
    },
    {
      "cell_type": "code",
      "source": [
        "# Write your code here"
      ],
      "metadata": {
        "id": "dnY-bYXnsLOQ"
      },
      "execution_count": null,
      "outputs": []
    },
    {
      "cell_type": "markdown",
      "source": [
        "### Exercise: Grocery shopping\n",
        "\n",
        "_Difficulty: ⭐⭐⭐_\n",
        "\n",
        "You and your roommate are going to the grocery store. You have a list of stuff to buy, like this one:"
      ],
      "metadata": {
        "id": "_UT7PyjdsQbw"
      }
    },
    {
      "cell_type": "code",
      "source": [
        "shopping_list = [\"milk\", \"pasta\", \"Ice cream\", \"cookies\", \"CHEESE\", \"toilet paper\", \"SOAP\"]"
      ],
      "metadata": {
        "id": "RQmUFxp5tk_k"
      },
      "execution_count": null,
      "outputs": []
    },
    {
      "cell_type": "markdown",
      "source": [
        "To spare time, you and your roommate decide to divide the task: you're going to buy all the stuff that starts with a letters from \"A\" to \"L\", and they'll buy the stuff that starts with a letter from \"M\" to \"Z\".\n",
        "\n",
        "Write a program that lists only the stuff that *you* should buy. For example, for the list above, the program should print:\n",
        "\n",
        "    milk\n",
        "    Ice cream\n",
        "    cookies\n",
        "    CHEESE\n",
        "\n",
        "(Note that the list could contain words with different capitalizations. The program should still work.)"
      ],
      "metadata": {
        "id": "TZjvh4GUuJfp"
      }
    },
    {
      "cell_type": "code",
      "source": [
        "# write your code here"
      ],
      "metadata": {
        "id": "For-TCf9uIMR"
      },
      "execution_count": null,
      "outputs": []
    },
    {
      "cell_type": "markdown",
      "source": [
        "### Exercise: Grocery shopping again\n",
        "\n",
        "_Difficulty: ⭐⭐⭐⭐_\n",
        "\n",
        "\n",
        "Last time you went grocery shopping, you and your roommate got all confused over the money. You still don't know whether one of you spent more than the other. This time, you want to keep track of the money you're spending.\n",
        "\n",
        "You come up with a more detailed list. Each element is itself a list of two elements: the name of the item, and its price in Eurocents:\n"
      ],
      "metadata": {
        "id": "ULlbCrkyvE1q"
      }
    },
    {
      "cell_type": "code",
      "source": [
        "shopping_list = [[\"milk\", 200], [\"pasta\", 240], [\"ice cream\", 350], [\"cookies\", 275], [\"cheese\", 499], [\"toilet paper\", 990], [\"soap\", 480]]"
      ],
      "metadata": {
        "id": "moXoeVhtEW6m"
      },
      "execution_count": null,
      "outputs": []
    },
    {
      "cell_type": "markdown",
      "source": [
        "Wait… that is really hard to read. Let's format it so that it looks cleaner:"
      ],
      "metadata": {
        "id": "lR2M764CE0oW"
      }
    },
    {
      "cell_type": "code",
      "source": [
        "shopping_list = [[\"milk\", 200],\n",
        "                 [\"pasta\", 240],\n",
        "                 [\"ice cream\", 350],\n",
        "                 [\"cookies\", 275],\n",
        "                 [\"cheese\", 499],\n",
        "                 [\"toilet paper\", 990],\n",
        "                 [\"soap\", 480]]"
      ],
      "metadata": {
        "id": "95WnRy3zE550"
      },
      "execution_count": null,
      "outputs": []
    },
    {
      "cell_type": "markdown",
      "source": [
        "There, that's better.\n",
        "\n",
        "OK, here is what you should do: like the previous program, this one should list the items from the list whose names begins with letters from \"A\" to \"L\" included. This time, however, also keep track of the total amount you spent, and print the total in Euros on the screen."
      ],
      "metadata": {
        "id": "6Q6i5c8WFG_K"
      }
    },
    {
      "cell_type": "code",
      "source": [
        "# write your code here"
      ],
      "metadata": {
        "id": "kIQWw-JSFCkc"
      },
      "execution_count": null,
      "outputs": []
    },
    {
      "cell_type": "markdown",
      "source": [
        "### Bonus exercise: List comprehension\n",
        "\n",
        "_Difficulty: ⭐⭐⭐⭐⭐_\n",
        "\n",
        "This is an exercise for those of you who have no problem doing all the exercises above. It's not actually that difficult, but I marked it as 5-stars difficulty because it requires you to look up stuff on your own.\n",
        "\n",
        "There is feature of Python called \"list comprehension\". It's a special syntax that you can use to do operations on lists. For example, it allows you to replace a \"for\" loop with shorter, more elegant code.\n",
        "\n",
        "Google \"python list comprehension\" and learn how it works. Then rewrite the previous exercises (\"Grocery shopping\" and \"Grocery shopping again\"), this time using list comprehension. That should make them shorter. _Much_ shorter. Each solution could be a single line of code."
      ],
      "metadata": {
        "id": "bwT7eKDwFq7o"
      }
    },
    {
      "cell_type": "code",
      "source": [
        "# Write \"Grocery shopping\" using list comprehension here"
      ],
      "metadata": {
        "id": "PXGie74lGPqA"
      },
      "execution_count": null,
      "outputs": []
    },
    {
      "cell_type": "code",
      "source": [
        "# Write \"Grocery shopping again\" using list comprehension here"
      ],
      "metadata": {
        "id": "1mFXaP2mHGv2"
      },
      "execution_count": null,
      "outputs": []
    }
  ]
}