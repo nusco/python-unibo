{
  "nbformat": 4,
  "nbformat_minor": 0,
  "metadata": {
    "colab": {
      "provenance": [],
      "authorship_tag": "ABX9TyOodeikcr5rK8SUkVYAarTy",
      "include_colab_link": true
    },
    "kernelspec": {
      "name": "python3",
      "display_name": "Python 3"
    },
    "language_info": {
      "name": "python"
    }
  },
  "cells": [
    {
      "cell_type": "markdown",
      "metadata": {
        "id": "view-in-github",
        "colab_type": "text"
      },
      "source": [
        "<a href=\"https://colab.research.google.com/github/nusco/python-unibo/blob/main/Lemonade_Story.ipynb\" target=\"_parent\"><img src=\"https://colab.research.google.com/assets/colab-badge.svg\" alt=\"Open In Colab\"/></a>"
      ]
    },
    {
      "cell_type": "markdown",
      "source": [
        "# Exercise: Lemonade Story\n",
        "\n",
        "\n",
        "### 1. Lemonade to the people\n",
        "\n",
        "As a public service to your neighborhood, you open a friendly stand that offers free lemonade. People stopping by can have as much lemonade as they want.\n",
        "\n",
        "- Start the day with a limited amount of lemonade—for example, 200 cl.\n",
        "\n",
        "- Ask the next customer how much lemonade they want (in cl).\n",
        "\n",
        "- Give them the lemonade (just print something on the screen). Remember to subtract the lemonade you served from the lemonade you have left.\n",
        "\n",
        "- Instead of asking for lemonade, a customer can ask for a hug. Everybody loves free hugs!\n",
        "\n",
        "- If a customer wants more lemonade than you have available, then pack up and go home. The program terminates.\n",
        "\n",
        "For example, a run of the program might look like the one below. The `>` sign marks inputs from the user. Feel free to use different wordings in your own code if you wish.\n",
        "\n",
        "    Hello! How much lemonade do you want? I have 200 cl left.\n",
        "    > 20\n",
        "    There you have it!\n",
        "    \n",
        "    Hello! How much lemonade do you want? I have 180 cl left.\n",
        "    > hug\n",
        "    Hug me, friendly stranger!\n",
        "    \n",
        "    Hello! How much lemonade do you want? I have 180 cl left.\n",
        "    > 150\n",
        "    There you have it!\n",
        "    \n",
        "    Hello! How much lemonade do you want? I have 30 cl left.\n",
        "    > 50\n",
        "    Sorry, I ran out of lemonade.\n",
        "\n",
        "Now it's up to you!"
      ],
      "metadata": {
        "id": "JdPIweaJ09L8"
      }
    },
    {
      "cell_type": "code",
      "execution_count": null,
      "metadata": {
        "id": "lhrHcLG807fH"
      },
      "outputs": [],
      "source": [
        "# Write your code here"
      ]
    },
    {
      "cell_type": "markdown",
      "source": [
        "### 2. Recovering costs\n",
        "\n",
        "You decide that while you're doing a public service, it makes sense to ask for some money and recover your costs.\n",
        "\n",
        "- A serving of lemonade costs 1 euro. You have an all-you-can-drink policy: a customer can still ask for as much lemonade as they want.\n",
        "\n",
        "- Hugs are still free.\n",
        "\n",
        "- At the end, print out a list of all the orders for the day, and your total earnings.\n",
        "\n",
        "Example:\n",
        "\n",
        "    Hello! How much lemonade do you want? I have 200 cl left.\n",
        "    > 20\n",
        "    It's 1 euro. There you have it!\n",
        "\n",
        "    Hello! How much lemonade do you want? I have 180 cl left.\n",
        "    > hug\n",
        "    Hug me, friendly stranger!\n",
        "\n",
        "    Hello! How much lemonade do you want? I have 180 cl left.\n",
        "    > 150\n",
        "    It's 1 euro. There you have it!\n",
        "\n",
        "    Hello! How much lemonade do you want? I have 30 cl left.\n",
        "    > 50\n",
        "    Sorry, I ran out of lemonade.\n",
        "\n",
        "    Orders: [20, \"hug\", 150]\n",
        "    I made 2 euros today\n",
        "\n",
        "Up to you now:"
      ],
      "metadata": {
        "id": "hJGL3aO3hwYj"
      }
    },
    {
      "cell_type": "code",
      "source": [
        "# Write your code here"
      ],
      "metadata": {
        "id": "Hd-3yC4CinUY"
      },
      "execution_count": null,
      "outputs": []
    },
    {
      "cell_type": "markdown",
      "source": [
        "### 3. Building a sustainable business\n",
        "\n",
        "That all-you-can-drink policy almost drove you bankrupt. Some customers payed the euro and drank all the lemonade available. You decide to change your policy:\n",
        "\n",
        "- A customer can ask for a maximum of 50 cl of lemonade. If they ask for more than that, they get nothing, and you keep their money as retaliation.\n",
        "\n",
        "- Also, stop giving free hugs. These people are creepy.\n",
        "\n",
        "Example:\n",
        "\n",
        "    Good morning. How much lemonade do you want? I have 200 cl left.\n",
        "    > 20\n",
        "    It's 1 euro. There you have it!\n",
        "\n",
        "    Good morning. How much lemonade do you want? I have 180 cl left.\n",
        "    > hug\n",
        "    Please leave or I'll call the police.\n",
        "\n",
        "    Good morning. How much lemonade do you want? I have 180 cl left.\n",
        "    > 150\n",
        "    Go away. I'll keep your money as compensation for the emotional damage you caused me.\n",
        "\n",
        "    Good morning. How much lemonade do you want? I have 180 cl left.\n",
        "    > 40\n",
        "    It's 1 euro. There you have it!\n",
        "\n",
        "…and so on."
      ],
      "metadata": {
        "id": "l3MGy4rvXDPk"
      }
    },
    {
      "cell_type": "code",
      "source": [
        "# Write your code here"
      ],
      "metadata": {
        "id": "72jBX3NxX7lM"
      },
      "execution_count": null,
      "outputs": []
    },
    {
      "cell_type": "markdown",
      "source": [
        "### 3. Expanding your market\n",
        "\n",
        "Your lemonade stand is starting to get a good reputation around town. You decide to streamline your operations in an effort to enhance your revenue:\n",
        "\n",
        "- Print the menu when the program starts.\n",
        "\n",
        "- Customers will be able to ask for only three sizes of lemonade: \"Big\" (20 cl), \"Bigger\" (50 cl) and \"Ridiculous\" (100 cl). They cost 1 euro, 2 euros and 3 euros, respectively.\n",
        "\n",
        "- If a customer asks for a spefic number of cl, give them the smallest size that is at least that large. (For example, if a customer asks for 30 cl of lemonade, give them a \"Bigger\").\n",
        "\n",
        "Example:\n",
        "\n",
        "    ---\n",
        "    Menu:\n",
        "    Big (20 cl): 1 euro\n",
        "    Bigger (50 cl): 2 euros\n",
        "    Ridiculous (100 cl): 5 euros\n",
        "    ---\n",
        "    \n",
        "    Good morning. How much lemonade do you want? We have 200 cl left.\n",
        "    > big\n",
        "    That's 1 euro. There you have it!\n",
        "    \n",
        "    Good morning. How much lemonade do you want? We have 180 cl left.\n",
        "    > ridiculous\n",
        "    That's 3 euros. There you have it!\n",
        "\n",
        "    Good morning. How much lemonade do you want? We have 80 cl left.\n",
        "    > 15\n",
        "    That's 1 euro. There you have it!\n",
        "\n",
        "    Good morning. How much lemonade do you want? We have 60 cl left.\n",
        "    > ridiculous\n",
        "    Sorry, we ran out of lemonade.\n",
        "\n",
        "    Orders: [\"big\", \"ridiculous\", \"ridiculous\"]\n",
        "    We made 5 euros today.\n",
        "\n",
        "Your turn:"
      ],
      "metadata": {
        "id": "yxOVWwywYN08"
      }
    },
    {
      "cell_type": "code",
      "source": [
        "# Write your code here"
      ],
      "metadata": {
        "id": "1e1awxmcq9sv"
      },
      "execution_count": null,
      "outputs": []
    },
    {
      "cell_type": "markdown",
      "source": [
        "### Everything can change\n",
        "\n",
        "Your lemonade stand is now the most popular in town. You bought a bunch of fake reviews on popular sites, and switched from organically grown lemons to dehydrated lemon juice. You also doubled the amount of sugar.\n",
        "\n",
        "To maximize your bottom line and position yourself for your future corporate IPO, you establish a new policy:\n",
        "\n",
        "- All the drinks (their names, sizes and prices) should change every day depending on market conditions. It should be very easy to update them by just changing a few lists at the top of the program. For example, you could put the data in a list such as this one:\n",
        "\n",
        "      menu = [[\"Big\", 20, 1],\n",
        "              [\"Bigger\", 50, 2],\n",
        "              [\"Ridiculous\", 100, 5]]\n",
        "\n",
        "Now, if you want to change the price of a \"Ridiculous\" to 6, you just change it here in the list. Want to change the size of a \"Big\" to 19? You change the list. Want to add a promotional item called a \"Family Pack\" that contains 2 liters of lemonade for 9 euros? You add an item to the list. You get the idea. Of course, the menu at the top of the program also updates automatically when you change the list.\n",
        "\n",
        "Take it away!"
      ],
      "metadata": {
        "id": "YFuyhz17cit9"
      }
    },
    {
      "cell_type": "code",
      "source": [
        "# Write your code here"
      ],
      "metadata": {
        "id": "DhxqqnynYEoJ"
      },
      "execution_count": null,
      "outputs": []
    },
    {
      "cell_type": "markdown",
      "source": [
        "### Where did it all go wrong?\n",
        "\n",
        "Your IPO failed because of an unexpected market downturn caused by a crisis of cryptocurrency-backed mortgages. You lost everything.\n",
        "\n",
        "As you ponder your fate, you remember your humble beginnings as a free lemonade stand. Go back to that very first version of the program, and consider the code you wrote there. Can you see things that could go wrong there? Imagine which scenarios that you didn't predict could cause errors when you run the program. For example:\n",
        "\n",
        "- What happens if a customer asks for something that is neither a number nor a hug?\n",
        "\n",
        "- What happens if a customer asks for a negative amount of lemonade?\n",
        "\n",
        "- What happens if a customer uses different capitalization styles, such as \"HUG\" or \"huG\"?\n",
        "\n",
        "Copy/paste the fist version of the program in the cell below, and consider those unexpected scenarios. How hard would it be to change your code to deal with situations like those?"
      ],
      "metadata": {
        "id": "_EciYDlxX8HJ"
      }
    },
    {
      "cell_type": "code",
      "source": [
        "# Copy/paste your first lemonade stand here, and try out the scenarios above"
      ],
      "metadata": {
        "id": "lldD2fa2kOHM"
      },
      "execution_count": null,
      "outputs": []
    },
    {
      "cell_type": "markdown",
      "source": [
        "Now that you understand all the stuff that could go wrong with your business, you're ready to launch a new startup that leverages the NFT market to offer AI-powered consulting services at scale. You're going to make wads of money!\n",
        "\n",
        "That's it for this notebook. Goodbye, and stay hydrated."
      ],
      "metadata": {
        "id": "hkUqG54Tkca6"
      }
    }
  ]
}