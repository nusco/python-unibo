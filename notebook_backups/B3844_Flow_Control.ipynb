{
  "nbformat": 4,
  "nbformat_minor": 0,
  "metadata": {
    "colab": {
      "provenance": []
    },
    "kernelspec": {
      "name": "python3",
      "display_name": "Python 3"
    },
    "language_info": {
      "name": "python"
    }
  },
  "cells": [
    {
      "cell_type": "markdown",
      "source": [
        "# Flow Control\n",
        "\n",
        "\n",
        "### Comparison operators\n",
        "\n",
        "Guess the outputs of the next code cells: is the expression `True` or `False`? Give yourself one point for each correct guess."
      ],
      "metadata": {
        "id": "NoilRY13m_GF"
      }
    },
    {
      "cell_type": "code",
      "execution_count": null,
      "metadata": {
        "id": "C-DYVVwSm7ki"
      },
      "outputs": [],
      "source": [
        "1 < 1"
      ]
    },
    {
      "cell_type": "code",
      "source": [
        "1 <= 1"
      ],
      "metadata": {
        "id": "x9RjraORnMIq"
      },
      "execution_count": null,
      "outputs": []
    },
    {
      "cell_type": "code",
      "source": [
        "1 > -1"
      ],
      "metadata": {
        "id": "BW3elUe-nPUQ"
      },
      "execution_count": null,
      "outputs": []
    },
    {
      "cell_type": "code",
      "source": [
        "1 >= 0"
      ],
      "metadata": {
        "id": "QbZN2tCJnQ4H"
      },
      "execution_count": null,
      "outputs": []
    },
    {
      "cell_type": "code",
      "source": [
        "1 != (2 - 1)"
      ],
      "metadata": {
        "id": "Um1L0HqEnTnY"
      },
      "execution_count": null,
      "outputs": []
    },
    {
      "cell_type": "code",
      "source": [
        "1 == (2 - 1)"
      ],
      "metadata": {
        "id": "lR4nP2uWnr3U"
      },
      "execution_count": null,
      "outputs": []
    },
    {
      "cell_type": "code",
      "source": [
        "(0.3 - 0.2) == 0.1"
      ],
      "metadata": {
        "id": "ONciVIMKnY2q"
      },
      "execution_count": null,
      "outputs": []
    },
    {
      "cell_type": "code",
      "source": [
        "\"cat\" > \"dog\""
      ],
      "metadata": {
        "id": "MSsTT7zhoMgk"
      },
      "execution_count": null,
      "outputs": []
    },
    {
      "cell_type": "code",
      "source": [
        "\"The good dog\" < \"grumpy cat\""
      ],
      "metadata": {
        "id": "OcbMkaOcoVlA"
      },
      "execution_count": null,
      "outputs": []
    },
    {
      "cell_type": "code",
      "source": [
        "\"2\" < \"10\""
      ],
      "metadata": {
        "id": "7ZtrWwN7o3RY"
      },
      "execution_count": null,
      "outputs": []
    },
    {
      "cell_type": "markdown",
      "source": [
        "How many points did you get out of the 10 expressions above?"
      ],
      "metadata": {
        "id": "UhuWkVrvn2mW"
      }
    },
    {
      "cell_type": "markdown",
      "source": [
        "### Conditionals\n",
        "\n",
        "You can define conditional statements with the `if` keyword (and optionally, the `else` keyword):"
      ],
      "metadata": {
        "id": "28Ttiz-5w7bh"
      }
    },
    {
      "cell_type": "code",
      "source": [
        "print(\"I am a fortune-teller. Tell me your name:\")\n",
        "name = input()\n",
        "if name == \"Lucky Joe\":\n",
        "    print(\"I see great things in your future.\")\n",
        "else:\n",
        "    print(\"Your future is...oh my! Look at the time!\")\n",
        "    print(\"I really have to go. Sorry!\")\n",
        "print(\"It's 30 euros, please.\")"
      ],
      "metadata": {
        "id": "Gg-rFA8VxISG"
      },
      "execution_count": null,
      "outputs": []
    },
    {
      "cell_type": "markdown",
      "source": [
        "Notice how Python uses indentation to define blocks of code. In the code above, for example, the `else` is followed by a two-line block. Unless the name of the user is exactly `\"Lucky Joe\"`, Python will execute both those lines.\n",
        "\n",
        "On the other hand, the very last line is not indented, so it will be always executed, whatever the result of the `if`."
      ],
      "metadata": {
        "id": "wG70N8pVxoFA"
      }
    },
    {
      "cell_type": "markdown",
      "source": [
        "You can also have _nested_ conditionals:"
      ],
      "metadata": {
        "id": "Y389HrxZxtM5"
      }
    },
    {
      "cell_type": "code",
      "source": [
        "print(\"Hello, and welcome to seventh grade English.\")\n",
        "print(\"My name is Mrs. Gabbard. And your name is...?\")\n",
        "\n",
        "name = input()\n",
        "if name == name.capitalize():\n",
        "    print(f\"Please take a seat, {name}.\")\n",
        "else:\n",
        "    print(f\"{name}? You mean {name.capitalize()}, right?\")\n",
        "    print(\"Don't you even know how to spell your name?\")\n",
        "\n",
        "    reply = input()\n",
        "    if reply.lower() == \"yes\":\n",
        "        print(\"Hmmph! Well, sit down!\")\n",
        "    else:\n",
        "        print(\"GET OUT!!\")"
      ],
      "metadata": {
        "id": "s2nhtTY0yQQl"
      },
      "execution_count": null,
      "outputs": []
    },
    {
      "cell_type": "markdown",
      "source": [
        "The code above is by far the most complicated you've seen in the course so far. Don't move forward with this notebook until you're confident that you understand it! Take your time to make your experiments and modify it. For example:\n",
        "\n",
        "* What does the `capitalize()` function do, and why is it used in this code?\n",
        "* What happens if you change the indentation of some lines in the code?\n",
        "* What happens if you remove the call to `lower()` in the last `if`?"
      ],
      "metadata": {
        "id": "W6YKyKKuoZrs"
      }
    },
    {
      "cell_type": "markdown",
      "source": [
        "### Exercise: The Berlin bouncer\n",
        "\n",
        "Write a program that acts as the bouncer for \"The Short Named\", a popular dance club in Berlin. By policy, this club only accepts people whose name contains less than 6 letters.\n",
        "\n",
        "The program should ask for the user name. If the user name is shorter than 6 letters, then the program greets the user and asks them to enter. If the user's name is 6 letters or more, then the program politely asks the user to leave.\n",
        "\n",
        "The one exception is the name \"Ferdinand\". Ferdinand is one of the Short Named's owners, so the 5-letters rule doesn't apply to him. Anybody with this name can enter.\n",
        "\n",
        "To write this program according to the rules above, you might need nested `if`s."
      ],
      "metadata": {
        "id": "uTQV_stpn7ar"
      }
    },
    {
      "cell_type": "code",
      "source": [
        "# Please write your code here"
      ],
      "metadata": {
        "id": "vTtVu6SMnzul"
      },
      "execution_count": null,
      "outputs": []
    },
    {
      "cell_type": "markdown",
      "source": [
        "### Logical operators\n",
        "\n",
        "You can use the `and`, `or` and `not` operators to define logical expressions.\n",
        "\n",
        "Here is another self-test. Guess the outputs of the next 10 code cells: is the expression `True` or `False`? Give yourself one point for each correct guess."
      ],
      "metadata": {
        "id": "-G9A7E5iA2TM"
      }
    },
    {
      "cell_type": "code",
      "source": [
        "True and False"
      ],
      "metadata": {
        "id": "D1MB2Za8BLrx"
      },
      "execution_count": null,
      "outputs": []
    },
    {
      "cell_type": "code",
      "source": [
        "True and True"
      ],
      "metadata": {
        "id": "Xs1gXQYncBfQ"
      },
      "execution_count": null,
      "outputs": []
    },
    {
      "cell_type": "code",
      "source": [
        "True or True"
      ],
      "metadata": {
        "id": "wv72xF2EcB8e"
      },
      "execution_count": null,
      "outputs": []
    },
    {
      "cell_type": "code",
      "source": [
        "True or False"
      ],
      "metadata": {
        "id": "qP9Mo-99cCfD"
      },
      "execution_count": null,
      "outputs": []
    },
    {
      "cell_type": "code",
      "source": [
        "a = 1\n",
        "not(a == 1)"
      ],
      "metadata": {
        "id": "avWj0cODDrvC"
      },
      "execution_count": null,
      "outputs": []
    },
    {
      "cell_type": "code",
      "source": [
        "a = 1\n",
        "(a > 0) and not (a < 0)"
      ],
      "metadata": {
        "id": "HDJGgde-cCzH"
      },
      "execution_count": null,
      "outputs": []
    },
    {
      "cell_type": "code",
      "source": [
        "a = False\n",
        "(not a) == True"
      ],
      "metadata": {
        "id": "yJe9y-5SDzhn"
      },
      "execution_count": null,
      "outputs": []
    },
    {
      "cell_type": "code",
      "source": [
        "a = 1\n",
        "not ((a <= 1) == True)"
      ],
      "metadata": {
        "id": "Rale1oTJD7ZH"
      },
      "execution_count": null,
      "outputs": []
    },
    {
      "cell_type": "code",
      "source": [
        "a = True\n",
        "not not a"
      ],
      "metadata": {
        "id": "qh_g0s7PEApS"
      },
      "execution_count": null,
      "outputs": []
    },
    {
      "cell_type": "code",
      "source": [
        "name = \"Ferdinand\"\n",
        "not(((name == \"Ferdinand\") and (len(name) <= 5)) or (len(name) > 5))"
      ],
      "metadata": {
        "id": "_DYblbV_cDFq"
      },
      "execution_count": null,
      "outputs": []
    },
    {
      "cell_type": "markdown",
      "source": [
        "So, how many correct responses did you get?"
      ],
      "metadata": {
        "id": "Pu7B_e7XDg5E"
      }
    },
    {
      "cell_type": "markdown",
      "source": [
        "### Exercise: The Berlin bouncer revisited\n",
        "\n",
        "Copy/paste the Berlin Bouncer program into the cell below, and modify it to use logical operators. With them, you should be able to remove the nested `if`."
      ],
      "metadata": {
        "id": "9V1OAn1yBkcq"
      }
    },
    {
      "cell_type": "code",
      "source": [
        "# Write your code here"
      ],
      "metadata": {
        "id": "FQ3-63DCBjkD"
      },
      "execution_count": null,
      "outputs": []
    },
    {
      "cell_type": "markdown",
      "source": [
        "Which version of the program do you find easier to understand?"
      ],
      "metadata": {
        "id": "NhxcPtdVFMGS"
      }
    }
  ]
}