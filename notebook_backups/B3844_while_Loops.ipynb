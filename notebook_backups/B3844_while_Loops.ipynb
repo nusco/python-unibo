{
  "nbformat": 4,
  "nbformat_minor": 0,
  "metadata": {
    "colab": {
      "provenance": []
    },
    "kernelspec": {
      "name": "python3",
      "display_name": "Python 3"
    },
    "language_info": {
      "name": "python"
    }
  },
  "cells": [
    {
      "cell_type": "markdown",
      "source": [
        "# _while_ Loops\n",
        "\n",
        "You can use the `while` keyword to loop. It will keep looping until its condition becomes false:\n"
      ],
      "metadata": {
        "id": "4s-HJoIeDxxh"
      }
    },
    {
      "cell_type": "code",
      "source": [
        "sentence = input()\n",
        "while sentence != \"bye\":\n",
        "    print(sentence)\n",
        "    sentence = input()\n",
        "print(\"Come again soon!\")"
      ],
      "metadata": {
        "id": "KvYty_c1Fhjt"
      },
      "execution_count": null,
      "outputs": []
    },
    {
      "cell_type": "markdown",
      "source": [
        "If the condition is always true, then the loop will continue forever–or until you force an exit with the `break` keyword:"
      ],
      "metadata": {
        "id": "MpEFqmBbFmRi"
      }
    },
    {
      "cell_type": "code",
      "source": [
        "while True:\n",
        "    sentence = input()\n",
        "    if sentence == \"bye\":\n",
        "        break"
      ],
      "metadata": {
        "id": "9-9AdU2PFoMu"
      },
      "execution_count": null,
      "outputs": []
    },
    {
      "cell_type": "markdown",
      "source": [
        "### Exercise: Count to Twenty\n",
        "\n",
        "Write a program that prints out the numbers from 1 to 20."
      ],
      "metadata": {
        "id": "mvv9rH_DGUn0"
      }
    },
    {
      "cell_type": "code",
      "source": [
        "# Write your code here"
      ],
      "metadata": {
        "id": "cTsn1wOUGYFs"
      },
      "execution_count": null,
      "outputs": []
    },
    {
      "cell_type": "markdown",
      "source": [
        "### Exercise: Deaf grandma\n",
        "\n",
        "Write a deaf grandma program that you can have a conversation with. Grandma has trouble hearing you, and you have to SHOUT by typing everything in all capitals. If you don't shout, grandma will ask you to raise your voice:\n",
        "\n",
        "    HUH?! SPEAK UP, SONNY!\n",
        "\n",
        "Even if you shout, she'll always misunderstand and respond:\n",
        "\n",
        "    NO, NOT SINCE 1938!\n",
        "\n",
        "You can stop talking to Grandma by shouting BYE.\n",
        "\n",
        "Hint: Try to think about what parts of your program should happen over and over again. All of those should be in a loop."
      ],
      "metadata": {
        "id": "cFIWOlMKGgrb"
      }
    },
    {
      "cell_type": "code",
      "source": [
        "# Write your code here"
      ],
      "metadata": {
        "id": "gfYV793-GeZo"
      },
      "execution_count": null,
      "outputs": []
    },
    {
      "cell_type": "markdown",
      "source": [
        "### Exercise: 99 Bottles\n",
        "\n",
        "Write a program that prints out the lyrics to the classic song, [“99 Bottles of Beer on the Wall.”](https://99-bottles-of-beer.net/lyrics.html)"
      ],
      "metadata": {
        "id": "wbGJPHx1Gae1"
      }
    },
    {
      "cell_type": "code",
      "source": [
        "# Write your code here"
      ],
      "metadata": {
        "id": "9dHZSGC5GwR6"
      },
      "execution_count": null,
      "outputs": []
    },
    {
      "cell_type": "markdown",
      "source": [
        "### Exercise: Deaf grandma strikes again\n",
        "\n",
        "What if Grandma doesn’t want you to leave? When you shout BYE, she could pretend not to hear you. Copy your previous program to the cell below, and change it so that you have to shout BYE three times in a row.\n",
        "\n",
        "Make sure to test your program: if you shout BYE three times, but not in a row, you should still be talking to Grandma."
      ],
      "metadata": {
        "id": "gJJAncLMGsKX"
      }
    },
    {
      "cell_type": "code",
      "source": [
        "# Write your code here"
      ],
      "metadata": {
        "id": "zY1VICpLGpQZ"
      },
      "execution_count": null,
      "outputs": []
    },
    {
      "cell_type": "markdown",
      "source": [
        "Here is an optional challenge: to make the program above really believable, have Grandma shout a different year each time–maybe any year at random between 1930 and 1950.You'll have to look online how to generate random numbers in python.\n"
      ],
      "metadata": {
        "id": "dedQYuNiGkw5"
      }
    },
    {
      "cell_type": "markdown",
      "source": [
        "### Exercise: Leap years\n",
        "\n",
        "Write a program that:\n",
        "\n",
        "1. Asks for a starting year and an ending year.\n",
        "2. It prints all the leap years between them (and *including* them, if they are also leap years).\n",
        "\n",
        "Leap years are years divisible by 4 (like 1984 and 2004). _But_ years divisible by 100 are not leap years (such as 1800 and 1900), unless they are also divisible by 400 (such as 1600 and 2000, which were in fact leap years). What a mess."
      ],
      "metadata": {
        "id": "v15Cl1RRGyv9"
      }
    },
    {
      "cell_type": "code",
      "source": [
        "# Write your code here"
      ],
      "metadata": {
        "id": "jD9b0Q5jG1u3"
      },
      "execution_count": null,
      "outputs": []
    }
  ]
}