{
  "nbformat": 4,
  "nbformat_minor": 0,
  "metadata": {
    "colab": {
      "provenance": []
    },
    "kernelspec": {
      "name": "python3",
      "display_name": "Python 3"
    },
    "language_info": {
      "name": "python"
    }
  },
  "cells": [
    {
      "cell_type": "markdown",
      "source": [
        "# Variables and Assignment\n",
        "\n",
        "You can store a value in a variable and use the variable in place of the value:"
      ],
      "metadata": {
        "id": "zB4b7RLQgnrM"
      }
    },
    {
      "cell_type": "code",
      "execution_count": null,
      "metadata": {
        "id": "bOakbrDDgaBF"
      },
      "outputs": [],
      "source": [
        "warning = \"I won't repeat this a second time!\"\n",
        "print(warning)\n",
        "print(warning)"
      ]
    },
    {
      "cell_type": "markdown",
      "source": [
        "Or consider this example:"
      ],
      "metadata": {
        "id": "UPpwPj1roR-G"
      }
    },
    {
      "cell_type": "code",
      "source": [
        "name = \"Anya Christina Emanuela Jenkins Harris\"\n",
        "print(\"My name is \" + name + \".\")\n",
        "print(\"Wow! \" + name + \" is a really long name.\")"
      ],
      "metadata": {
        "id": "dMs9546Og-tj"
      },
      "execution_count": null,
      "outputs": []
    },
    {
      "cell_type": "markdown",
      "source": [
        "An exercise for you: can you write a version of the code above that uses string interpolation instead of string concatenation? (Your teacher should have explained string interpolation. If they didn't, remind them! If you're going through this notebook at home, then look up [\"python string interpolation\" on Google](https://www.google.com/search?client=firefox-b-d&q=python+string+interpolation).)"
      ],
      "metadata": {
        "id": "TdFmstUcohoP"
      }
    },
    {
      "cell_type": "code",
      "source": [
        "# Write your code in this cell"
      ],
      "metadata": {
        "id": "h2K6OJPGoUdL"
      },
      "execution_count": null,
      "outputs": []
    },
    {
      "cell_type": "markdown",
      "source": [
        "## More about assignment\n",
        "\n",
        "You can assign values to a variable multiple times:"
      ],
      "metadata": {
        "id": "87ZGzMd8osCs"
      }
    },
    {
      "cell_type": "code",
      "source": [
        "composer = \"Mozart\"\n",
        "print(f'{composer} is great.')\n",
        "\n",
        "composer = \"Beethoven\"\n",
        "print(f'But I prefer {composer}, personally.')"
      ],
      "metadata": {
        "id": "d2oU8fq1pp1C"
      },
      "execution_count": null,
      "outputs": []
    },
    {
      "cell_type": "markdown",
      "source": [
        "A variable can have values of any type, not just strings:"
      ],
      "metadata": {
        "id": "MIQCEWLTp1ws"
      }
    },
    {
      "cell_type": "code",
      "source": [
        "my_own_var = \"just another \" + \"string\"\n",
        "print(my_own_var)\n",
        "\n",
        "my_own_var = 5 * (1 + 2)\n",
        "print(my_own_var)"
      ],
      "metadata": {
        "id": "do5SBnkfpw5U"
      },
      "execution_count": null,
      "outputs": []
    },
    {
      "cell_type": "markdown",
      "source": [
        "You can assign the value of a variable to another variable:"
      ],
      "metadata": {
        "id": "UCfkaY3Lqz8e"
      }
    },
    {
      "cell_type": "code",
      "source": [
        "var1 = 8\n",
        "var2 = var1\n",
        "print(var1)\n",
        "print(var2)"
      ],
      "metadata": {
        "id": "CvdIKm0bqU3l"
      },
      "execution_count": null,
      "outputs": []
    },
    {
      "cell_type": "markdown",
      "source": [
        "What happens if you change the value of one of the variables after the assignment? Can you guess the output of the following code?"
      ],
      "metadata": {
        "id": "uTKjUrAkqjEY"
      }
    },
    {
      "cell_type": "code",
      "source": [
        "var1 = 8\n",
        "var2 = var1\n",
        "var1 = \"luck\"\n",
        "print(var1)\n",
        "print(var2)"
      ],
      "metadata": {
        "id": "bSm540ZxrIAg"
      },
      "execution_count": null,
      "outputs": []
    },
    {
      "cell_type": "markdown",
      "source": [
        "And what about the following code? Can you guess its output?"
      ],
      "metadata": {
        "id": "ryQPKdS3cYBa"
      }
    },
    {
      "cell_type": "code",
      "source": [
        "x = 12\n",
        "x = x * 2 - 25\n",
        "print(x)"
      ],
      "metadata": {
        "id": "etJi1QHAcdXx"
      },
      "execution_count": null,
      "outputs": []
    }
  ]
}