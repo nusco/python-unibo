{
  "nbformat": 4,
  "nbformat_minor": 0,
  "metadata": {
    "colab": {
      "provenance": []
    },
    "kernelspec": {
      "name": "python3",
      "display_name": "Python 3"
    },
    "language_info": {
      "name": "python"
    }
  },
  "cells": [
    {
      "cell_type": "markdown",
      "source": [
        "# Numeric Types\n",
        "\n",
        "The two most important numeric types in Python are _integers_ and _floats_.\n",
        "\n",
        "Here are some integers:\n",
        "\n",
        "    5\n",
        "    -205\n",
        "    9999999999999999999999999\n",
        "    0\n",
        "\n",
        "And here are some floats:\n",
        "\n",
        "    54.321\n",
        "    0.001\n",
        "    -205.3884\n",
        "    0.0\n",
        "\n",
        "Python follows the English-speaking convention: decimals are separated by dots, not commas."
      ],
      "metadata": {
        "id": "mKKxlpKl4nBT"
      }
    },
    {
      "cell_type": "markdown",
      "source": [
        "## Simple arithmetic\n",
        "\n",
        "Execute arithmetic operations in the cell below. Try these:\n",
        "\n",
        "* Try the `+` and `-` operators.\n",
        "* Find out how to divide two numbers.\n",
        "* Find out how to multiply two numbers."
      ],
      "metadata": {
        "id": "gw2LnT1Q3beG"
      }
    },
    {
      "cell_type": "code",
      "source": [
        "print(\"hello\")"
      ],
      "metadata": {
        "id": "TUeyUiYa3Y2E"
      },
      "execution_count": null,
      "outputs": []
    },
    {
      "cell_type": "markdown",
      "source": [
        "Search the Internet or experiment on your own to find out what the `%` operator does. Then try it in the code cell below:"
      ],
      "metadata": {
        "id": "jV_PMbUwgkUr"
      }
    },
    {
      "cell_type": "code",
      "source": [
        "# Try the % operator here"
      ],
      "metadata": {
        "id": "_Mgktzmq5MY0"
      },
      "execution_count": null,
      "outputs": []
    },
    {
      "cell_type": "markdown",
      "source": [
        "Can you come up with a practical example of how this operator could be useful?"
      ],
      "metadata": {
        "id": "Z59SFX_i5RAI"
      }
    },
    {
      "cell_type": "markdown",
      "source": [
        "## Precedence\n",
        "\n",
        "Can you guess the result of the cell below? Come up with an answer, then execute the cell."
      ],
      "metadata": {
        "id": "2jZ0Hdd07RRI"
      }
    },
    {
      "cell_type": "code",
      "source": [
        "3 + 4 * 2 - 10 / 5"
      ],
      "metadata": {
        "id": "kh2esNcG7QVz"
      },
      "execution_count": null,
      "outputs": []
    },
    {
      "cell_type": "markdown",
      "source": [
        "Did you guess correctly?\n",
        "\n",
        "Even if you did, you might have expected an integer number. Can you find out why you got a float instead?"
      ],
      "metadata": {
        "id": "z0sEV_me7jKm"
      }
    },
    {
      "cell_type": "markdown",
      "source": [
        "Now look at the operation below. Change it by strategically adding parantheses to change the precedence of the operators, so that the final result is equal to 3 multiplied by 3, minus 4, all multiplied by 5, for a total of 25."
      ],
      "metadata": {
        "id": "7m2_tmmx7zwZ"
      }
    },
    {
      "cell_type": "code",
      "source": [
        "1 + 2 * 3 - 4 * 5"
      ],
      "metadata": {
        "id": "hPl7d5BU760O"
      },
      "execution_count": null,
      "outputs": []
    },
    {
      "cell_type": "markdown",
      "source": [
        "## Don't use floats for precise calculations\n",
        "\n",
        "It's a bad idea to use floats to represent exact values such as money. Here's proof:"
      ],
      "metadata": {
        "id": "uCvozOC_gcct"
      }
    },
    {
      "cell_type": "code",
      "source": [
        "0.1 + 0.2"
      ],
      "metadata": {
        "id": "f1nZ8leo7CcW"
      },
      "execution_count": null,
      "outputs": []
    },
    {
      "cell_type": "markdown",
      "source": [
        "# A few tasks for you\n",
        "\n",
        "Use Python to answer the following questions."
      ],
      "metadata": {
        "id": "eb9NJ-jkgnhQ"
      }
    },
    {
      "cell_type": "markdown",
      "source": [
        "How many hours are in a year?"
      ],
      "metadata": {
        "id": "zruY-yFPjJYr"
      }
    },
    {
      "cell_type": "code",
      "source": [
        "# Answer here"
      ],
      "metadata": {
        "id": "jIi70NzsjQys"
      },
      "execution_count": null,
      "outputs": []
    },
    {
      "cell_type": "markdown",
      "source": [
        "How many minutes are in a decade?"
      ],
      "metadata": {
        "id": "iFgRyy21jRv-"
      }
    },
    {
      "cell_type": "code",
      "source": [
        "# Answer here"
      ],
      "metadata": {
        "id": "0vQ2rqeIjceL"
      },
      "execution_count": null,
      "outputs": []
    },
    {
      "cell_type": "markdown",
      "source": [
        "How many seconds old are you? Be as accurate (or not) as you want."
      ],
      "metadata": {
        "id": "kemur78vjdxy"
      }
    },
    {
      "cell_type": "code",
      "source": [
        "# Answer here"
      ],
      "metadata": {
        "id": "tg2ioaJVjpW-"
      },
      "execution_count": null,
      "outputs": []
    },
    {
      "cell_type": "markdown",
      "source": [
        "A University professor is 1752946224 seconds old. How many years old is he?\n",
        "\n",
        "(Hint: when you write a long number, you can use underscores to separate digits and make it more readable to humans, as in `1_000_000`. Python ignores underscores in numbers.)"
      ],
      "metadata": {
        "id": "sKCqaY2qjmjm"
      }
    },
    {
      "cell_type": "code",
      "source": [
        "# Answer here"
      ],
      "metadata": {
        "id": "Sqyw9683jooC"
      },
      "execution_count": null,
      "outputs": []
    }
  ]
}