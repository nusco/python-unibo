{
  "nbformat": 4,
  "nbformat_minor": 0,
  "metadata": {
    "colab": {
      "provenance": [],
      "collapsed_sections": [
        "Lo8klk_DARkW",
        "FKeNMIMWjDS2",
        "ppbrrlrjBGPu"
      ]
    },
    "kernelspec": {
      "name": "python3",
      "display_name": "Python 3"
    },
    "language_info": {
      "name": "python"
    }
  },
  "cells": [
    {
      "cell_type": "markdown",
      "source": [
        "# Calling functions\n",
        "\n",
        "Let's define a variable that you'll use in the next exercises:"
      ],
      "metadata": {
        "id": "Lo8klk_DARkW"
      }
    },
    {
      "cell_type": "code",
      "source": [
        "sentence = \"This is a string\""
      ],
      "metadata": {
        "id": "OC3N0nUFB_nR"
      },
      "execution_count": null,
      "outputs": []
    },
    {
      "cell_type": "markdown",
      "source": [
        "In Python, you can operate on values with _functions_:"
      ],
      "metadata": {
        "id": "ldw2pfeKCBMj"
      }
    },
    {
      "cell_type": "code",
      "execution_count": null,
      "metadata": {
        "id": "Imdd0l0WAKBy"
      },
      "outputs": [],
      "source": [
        "len(sentence)"
      ]
    },
    {
      "cell_type": "markdown",
      "source": [
        "Also, you can call _methods_. Methods are like functions that you can call on the value itself:"
      ],
      "metadata": {
        "id": "GTqhfnQDAdHJ"
      }
    },
    {
      "cell_type": "code",
      "source": [
        "sentence.upper()"
      ],
      "metadata": {
        "id": "iPcwXsmTAb1y"
      },
      "execution_count": null,
      "outputs": []
    },
    {
      "cell_type": "markdown",
      "source": [
        "### Immutability\n",
        "\n",
        "Remember that strings, integers and floats in Python are _immutable_. You cannot change a string. You can only create a new string:"
      ],
      "metadata": {
        "id": "FKeNMIMWjDS2"
      }
    },
    {
      "cell_type": "code",
      "source": [
        "x = \"test\"\n",
        "y = x.upper()\n",
        "print(f\"x: {x}\")\n",
        "print(f\"y: {y}\")"
      ],
      "metadata": {
        "id": "6Hhw4mYZjaXE"
      },
      "execution_count": null,
      "outputs": []
    },
    {
      "cell_type": "markdown",
      "source": [
        "On the other hand, you can reassign a different value to a variable:"
      ],
      "metadata": {
        "id": "knFb4CsfjnmF"
      }
    },
    {
      "cell_type": "code",
      "source": [
        "x = \"hello\"\n",
        "y = x\n",
        "x = x + \", world!\"\n",
        "print(f\"x: {x}\")\n",
        "print(f\"y: {y}\")"
      ],
      "metadata": {
        "id": "f-MZQgqpjwZI"
      },
      "execution_count": null,
      "outputs": []
    },
    {
      "cell_type": "markdown",
      "source": [
        "### A few questions\n",
        "\n",
        "To get familiar with calling functions and methods, look online for answers to the following questions, using the `sentence` variable to make your experiments."
      ],
      "metadata": {
        "id": "ppbrrlrjBGPu"
      }
    },
    {
      "cell_type": "markdown",
      "source": [
        "How do you turn a string to lowercase? (For example, \"Hello\" to \"hello\".)"
      ],
      "metadata": {
        "id": "JgL1or7wi0rN"
      }
    },
    {
      "cell_type": "code",
      "source": [
        "# Convert the sentence to lowercase"
      ],
      "metadata": {
        "id": "RPQ2cu4uBaz4"
      },
      "execution_count": null,
      "outputs": []
    },
    {
      "cell_type": "markdown",
      "source": [
        "How do you invert the case of a string? (For example, how do you turn \"aBc\" into \"AbC\"?"
      ],
      "metadata": {
        "id": "utU3lMHVBUJS"
      }
    },
    {
      "cell_type": "code",
      "source": [
        "# Invert the case of the sentence"
      ],
      "metadata": {
        "id": "CfoYn-czAnrG"
      },
      "execution_count": null,
      "outputs": []
    },
    {
      "cell_type": "markdown",
      "source": [
        "This one is going to be harder. Remove the first two words from the sentence:"
      ],
      "metadata": {
        "id": "Gtn0OaUGCoVa"
      }
    },
    {
      "cell_type": "code",
      "source": [
        "# Convert the sentence \"This is a string\" into the sentence \"a string\""
      ],
      "metadata": {
        "id": "qGvLfRLeCsqB"
      },
      "execution_count": null,
      "outputs": []
    },
    {
      "cell_type": "markdown",
      "source": [
        "Python's strings have a method to right-justify them. For example, if you right-justify the string \"Hi\" on a line that is 6 characters wide, you get the following string:\n",
        "\n",
        "```\n",
        "\"    Hi\"\n",
        "```\n",
        "\n",
        "(Four spaces, followed by the two characters in the string).\n",
        "\n",
        "Now right-justify the `sentence` on a line that is 40 characters long."
      ],
      "metadata": {
        "id": "2Ni-UZW-DBqV"
      }
    },
    {
      "cell_type": "code",
      "source": [
        "# Right-justify the sentence on a line that is 40 characters long"
      ],
      "metadata": {
        "id": "TXoqDkn9CwhM"
      },
      "execution_count": null,
      "outputs": []
    },
    {
      "cell_type": "markdown",
      "source": [
        "Now stop here for a moment. Before you move on, ask your teacher to tell you about _arguments_ in functions and methods."
      ],
      "metadata": {
        "id": "4v3Q4r4RFK9W"
      }
    },
    {
      "cell_type": "markdown",
      "source": [
        "# A few things to try\n",
        "\n",
        "Welcome back. Here are a few exercises for you."
      ],
      "metadata": {
        "id": "rVcAKpD2GCDQ"
      }
    },
    {
      "cell_type": "markdown",
      "source": [
        "### Angry boss\n",
        "\n",
        "Write an \"angry boss\" program that rudely asks what you want. Whatever you answer, the angry boss should yell it back at you and then fire you. For example, if you type in:\n",
        "\n",
        "`I want a raise`\n",
        "\n",
        "then the angry boss should yell back:\n",
        "\n",
        "`WHADDAYA MEAN \"I WANT A RAISE\"? YOU'RE FIRED!`"
      ],
      "metadata": {
        "id": "e3gRajf_GJ7G"
      }
    },
    {
      "cell_type": "code",
      "source": [
        "# Write your code here"
      ],
      "metadata": {
        "id": "wVoXtJnaDrUy"
      },
      "execution_count": null,
      "outputs": []
    },
    {
      "cell_type": "markdown",
      "source": [
        "### Table of contents\n",
        "\n",
        "Now here is a challenge.\n",
        "\n",
        "Before this exercise, there are a few things that you should know. They _might_ come useful. On the other hand, they might not.\n",
        "\n",
        "First: Python strings have three methods you might want to look up: `rjust()`, `ljust()`, and `center`. If you wish, try out those methods in the code block below:"
      ],
      "metadata": {
        "id": "oV5A8l_xGWOK"
      }
    },
    {
      "cell_type": "code",
      "source": [
        "# Try the methods here. for example:\n",
        "\"abc\".rjust(20)"
      ],
      "metadata": {
        "id": "unQEb53dJuwT"
      },
      "execution_count": null,
      "outputs": []
    },
    {
      "cell_type": "markdown",
      "source": [
        "Also, remember that you can repeat a string with the `*` operator. For example, try this code:"
      ],
      "metadata": {
        "id": "EAm_gftzJ4WC"
      }
    },
    {
      "cell_type": "code",
      "source": [
        "print(\"Na\" * 16 + \", Batman!\")"
      ],
      "metadata": {
        "id": "JyLBHItDGqHD"
      },
      "execution_count": null,
      "outputs": []
    },
    {
      "cell_type": "markdown",
      "source": [
        "OK, now here's your challenge: write a program that displays a table of contents so that it looks like this:\n",
        "\n",
        "```\n",
        "           Table of Contents            \n",
        "Chapter 1: Numeric Types          page 1\n",
        "Chapter 2: Strings                page 5\n",
        "Chapter 3: Variables              page 9\n",
        "````\n",
        "\n",
        "Write this code so that it's very easy to change the width of the page. For example, in the output above we decided that the page should be 40 characters wide. But it should be very easy to change it and make the output 80 characters wide:\n",
        "\n",
        "```\n",
        "                               Table of Contents                                \n",
        "Chapter 1: Numeric Types                                                  page 1\n",
        "Chapter 2: Strings                                                        page 5\n",
        "Chapter 3: Variables                                                      page 9\n",
        "```\n",
        "\n",
        "We should be able to switch the width of the output by changing a single line in the code.\n",
        "\n",
        "Good luck!"
      ],
      "metadata": {
        "id": "aln61SDCJ_7y"
      }
    },
    {
      "cell_type": "code",
      "source": [
        "# Write your code here"
      ],
      "metadata": {
        "id": "TJCPMCVcJYq7"
      },
      "execution_count": null,
      "outputs": []
    }
  ]
}